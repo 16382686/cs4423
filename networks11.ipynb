{
 "cells": [
  {
   "cell_type": "markdown",
   "metadata": {},
   "source": [
    "### CS4423 - Networks\n",
    "Prof. Götz Pfeiffer<br />\n",
    "School of Mathematics, Statistics and Applied Mathematics<br />\n",
    "NUI Galway"
   ]
  },
  {
   "cell_type": "markdown",
   "metadata": {},
   "source": [
    "#### 3. Random Networks\n",
    "\n",
    "# Lecture 11: Erdös-Rényi Random Graph Models."
   ]
  },
  {
   "cell_type": "markdown",
   "metadata": {},
   "source": [
    "A [random graph](https://en.wikipedia.org/wiki/Random_graph) is a mathematical model of a family of networks, where certain parameters (like the number of nodes and edges) have fixed values, but other aspects (like the actual edges) are randomly assigned. The simplest example of a random graph is in fact the network $G(n,m)$ with fixed numbers $n$ of nodes and $m$ of edges, placed randomly between the vertices. Although a random graph is not a specific object, many of its properties can be described precisely, in the form of expected values, or probability distributions."
   ]
  },
  {
   "cell_type": "markdown",
   "metadata": {},
   "source": [
    "<img src=\"https://upload.wikimedia.org/wikipedia/commons/thumb/1/13/Erdos_generated_network-p0.01.jpg/1280px-Erdos_generated_network-p0.01.jpg\">"
   ]
  },
  {
   "cell_type": "markdown",
   "metadata": {},
   "source": [
    "## Randomly Selected Edges"
   ]
  },
  {
   "cell_type": "markdown",
   "metadata": {},
   "source": [
    "Let us denote by $G(n, m)$ a network with $n$ nodes and $m$ chosen\n",
    "edges, chosen uniformly at random (out of the possible\n",
    "$\\binom{n}{2}$).  Equivalently, one can choose uniformly at random\n",
    "one network in the **set** $G(n, m)$ of **all** networks on a given set\n",
    "of $n$ nodes with **exactly** $m$ edges."
   ]
  },
  {
   "cell_type": "markdown",
   "metadata": {},
   "source": [
    "<div class=\"alert\">\n",
    "\n",
    "**Definition (ER Model $A$: Uniform Random Graphs).**\n",
    "Let $n \\geq 1$, let $N = \\binom{n}{2}$ and let $0 \\leq m \\leq N$.\n",
    "\n",
    "The model $G(n, m)$ consists of the ensemble of graphs $G$\n",
    "with $n$ nodes $X = \\{1, 2, \\dots, n\\}$, and $m$ randomly selected\n",
    "edges, chosen uniformly from the $N$ possible edges.\n",
    "\n",
    "</div>"
   ]
  },
  {
   "cell_type": "markdown",
   "metadata": {},
   "source": [
    "One could think of $G(n, m)$ as a probability distribution\n",
    "$P \\colon G(n, m) \\to \\mathbb{R}$,\n",
    "that assigns to each network $G \\in G(n, m)$ the same probability\n",
    "$$\n",
    "P(G) = \\binom{N}{m}^{-1},\n",
    "$$\n",
    "where $N = \\binom{n}{2}$."
   ]
  },
  {
   "cell_type": "markdown",
   "metadata": {},
   "source": [
    "For example ..."
   ]
  },
  {
   "cell_type": "markdown",
   "metadata": {},
   "source": [
    "<img src=\"random-gnm.png\">"
   ]
  },
  {
   "cell_type": "markdown",
   "metadata": {},
   "source": [
    "In order to make some random graphs, we first need to import the standard libraries ..."
   ]
  },
  {
   "cell_type": "code",
   "execution_count": 1,
   "metadata": {},
   "outputs": [],
   "source": [
    "import numpy as np\n",
    "import pandas as pd\n",
    "import networkx as nx\n",
    "import matplotlib.pyplot as plt"
   ]
  },
  {
   "cell_type": "markdown",
   "metadata": {},
   "source": [
    "... and the `random` module, for a function `choice` that selects a random element from a list."
   ]
  },
  {
   "cell_type": "code",
   "execution_count": 2,
   "metadata": {},
   "outputs": [],
   "source": [
    "import random"
   ]
  },
  {
   "cell_type": "markdown",
   "metadata": {},
   "source": [
    "Picking edges at random involves picking several ($2$ to be precise)\n",
    "nodes from the list of nodes of a graph, avoiding repetition.  A simple\n",
    "algorithm for selection without repetition can be based on the following\n",
    "function `pick`, which works on a set `elements` and a subset `chosen`\n",
    "of already chosen elements, as follows:\n",
    "1. pick a random element `x` from the set `elements`\n",
    "2. if `x` is in the subset `chosen` go back to step 1, else return `x`."
   ]
  },
  {
   "cell_type": "code",
   "execution_count": 3,
   "metadata": {},
   "outputs": [],
   "source": [
    "def pick(elements, chosen = []):\n",
    "    while True:\n",
    "        x = random.choice(elements)\n",
    "        if x not in chosen:\n",
    "            return x"
   ]
  },
  {
   "cell_type": "markdown",
   "metadata": {},
   "source": [
    "**Note.** This algorithm (and its implementation here) has no explict termination condition. \n",
    "Hence, under unfortunate circumstances, it may run for a very long time, or indeed forever ..."
   ]
  },
  {
   "cell_type": "code",
   "execution_count": 4,
   "metadata": {},
   "outputs": [
    {
     "data": {
      "text/plain": [
       "19"
      ]
     },
     "execution_count": 4,
     "metadata": {},
     "output_type": "execute_result"
    }
   ],
   "source": [
    "lll = [2, 3, 5, 7, 11, 13, 17, 19]\n",
    "pick(lll, [2,3,5,7,11,13])"
   ]
  },
  {
   "cell_type": "markdown",
   "metadata": {},
   "source": [
    "To select $l$ random elements, simply `pick` $l$ times, while \n",
    "keeping track of already selected elements in a list `chosen`."
   ]
  },
  {
   "cell_type": "code",
   "execution_count": 5,
   "metadata": {},
   "outputs": [],
   "source": [
    "def pick_elements(elements, count):\n",
    "    chosen = []\n",
    "    for i in range(count):\n",
    "        chosen.append(pick(elements, chosen))\n",
    "    return chosen"
   ]
  },
  {
   "cell_type": "code",
   "execution_count": 6,
   "metadata": {},
   "outputs": [
    {
     "data": {
      "text/plain": [
       "[17, 19, 13]"
      ]
     },
     "execution_count": 6,
     "metadata": {},
     "output_type": "execute_result"
    }
   ],
   "source": [
    "lll = [2, 3, 5, 7, 11, 13, 17, 19]\n",
    "pick_elements(lll, 3)"
   ]
  },
  {
   "cell_type": "markdown",
   "metadata": {},
   "source": [
    "**Note.** Suppose the vertex set $X$ has $n$ elements and that $k$ elements\n",
    "$$\n",
    "(x_0, x_1, \\dots, x_{k-1})\n",
    "$$\n",
    "have already been chosen.\n",
    "Then the next element $x_k$ is chosen with probability $\\frac1{n-k}$ (from\n",
    "the $n-k$ remaining elements at this stage:\n",
    "\n",
    "Clearly, $x_0$ is chosen with probability $\\frac1n$ from the $n$ elements.\n",
    "Next, in a first draw $x_1$ is chosen with probability $\\frac1n$.\n",
    "With the same probability $\\frac1n$, this first draw produces element $x_0$\n",
    "again, in which case a second draw has to be carried out, where $x_1$\n",
    "has another chance of $\\frac1n$ to be drawn. And $x_0$ too, calling for a third\n",
    "draw, and so on.  In total, $x_1$'s chances of being drawn are\n",
    "$$\n",
    "P(x_1) = \\frac1n + \\frac1{n^2} + \\frac1{n^3} + \\dotsm \n",
    "= \\frac1n \\sum_{l \\geq 0} \\bigl(\\frac1n\\bigr)^l\n",
    "= \\frac1n \\frac1{1 - \\frac1n}\n",
    "= \\frac1{n-1}.\n",
    "$$\n",
    "\n",
    "Similarly, $x_k$'s chances of being drawn are\n",
    "$$\n",
    "P(x_k) = \\frac1n + \\frac{k}{n^2} + \\frac{k^2}{n^3} + \\dotsm \n",
    "= \\frac1n \\sum_{l \\geq 0} \\bigl(\\frac{k}{n}\\bigr)^l\n",
    "= \\frac1n \\frac1{1 - \\frac{k}{n}}\n",
    "= \\frac1{n-k}.\n",
    "$$\n",
    "\n"
   ]
  },
  {
   "cell_type": "markdown",
   "metadata": {},
   "source": [
    "To pick a random edge means to pick $2$ elements from the node set of $G$.\n",
    "Again, one can use a list of already chosen edges to avoid repetition."
   ]
  },
  {
   "cell_type": "code",
   "execution_count": 7,
   "metadata": {},
   "outputs": [],
   "source": [
    "def pick_edge(G, chosen):\n",
    "    while True:\n",
    "        edge = pick_elements(list(G.nodes()), 2)\n",
    "        edge.sort()\n",
    "        if edge not in chosen:\n",
    "            return edge"
   ]
  },
  {
   "cell_type": "code",
   "execution_count": 8,
   "metadata": {},
   "outputs": [],
   "source": [
    "G = nx.Graph()\n",
    "G.add_nodes_from(range(16))"
   ]
  },
  {
   "cell_type": "code",
   "execution_count": 9,
   "metadata": {},
   "outputs": [
    {
     "data": {
      "text/plain": [
       "[0, 1, 2, 3, 4, 5, 6, 7, 8, 9, 10, 11, 12, 13, 14, 15]"
      ]
     },
     "execution_count": 9,
     "metadata": {},
     "output_type": "execute_result"
    }
   ],
   "source": [
    "list(G.nodes)"
   ]
  },
  {
   "cell_type": "code",
   "execution_count": 10,
   "metadata": {},
   "outputs": [
    {
     "data": {
      "text/plain": [
       "[8, 13]"
      ]
     },
     "execution_count": 10,
     "metadata": {},
     "output_type": "execute_result"
    }
   ],
   "source": [
    "pick_edge(G, [[11,14]])"
   ]
  },
  {
   "cell_type": "markdown",
   "metadata": {},
   "source": [
    "To pick $m$ edges, without repetition, simply apply `pick_edge` $m$ times."
   ]
  },
  {
   "cell_type": "code",
   "execution_count": 11,
   "metadata": {},
   "outputs": [],
   "source": [
    "def pick_edges(G, m):\n",
    "    chosen = []\n",
    "    for i in range(m):\n",
    "        chosen.append(pick_edge(G, chosen))\n",
    "    return chosen"
   ]
  },
  {
   "cell_type": "markdown",
   "metadata": {},
   "source": [
    "Now we have all the building blocks for a function `random_graph_A` that\n",
    "takes the order $n$ and the size $m$ of a random ER graph of type A\n",
    "as arguments, and constructs such a graph."
   ]
  },
  {
   "cell_type": "code",
   "execution_count": 12,
   "metadata": {},
   "outputs": [],
   "source": [
    "def random_graph_A(n, m):\n",
    "    \"\"\"construct a random type A graph\n",
    "    with n nodes and m = links\"\"\"\n",
    "    G = nx.Graph()\n",
    "    G.add_nodes_from(range(n))\n",
    "    G.add_edges_from(pick_edges(G, m))\n",
    "    return G"
   ]
  },
  {
   "cell_type": "markdown",
   "metadata": {},
   "source": [
    "Now we can construct and draw a random graph on $16$ vertices with $15$ edges."
   ]
  },
  {
   "cell_type": "code",
   "execution_count": 13,
   "metadata": {},
   "outputs": [
    {
     "data": {
      "image/png": "[encoded data removed]",
      "text/plain": [
       "<Figure size 432x288 with 1 Axes>"
      ]
     },
     "metadata": {},
     "output_type": "display_data"
    }
   ],
   "source": [
    "G = random_graph_A(16, 15)\n",
    "nx.draw(G, with_labels = True, node_color = 'y')"
   ]
  },
  {
   "cell_type": "markdown",
   "metadata": {},
   "source": [
    "The `networkx` version of this random graph constructor is called `gnm_random_graph`\n",
    "and should produce the same random graphs with the same probability. "
   ]
  },
  {
   "cell_type": "code",
   "execution_count": 14,
   "metadata": {},
   "outputs": [
    {
     "data": {
      "image/png": "[encoded data removed]",
      "text/plain": [
       "<Figure size 432x288 with 1 Axes>"
      ]
     },
     "metadata": {},
     "output_type": "display_data"
    }
   ],
   "source": [
    "G = nx.gnm_random_graph(16, 15)\n",
    "nx.draw(G, with_labels = True, node_color = 'lightblue')"
   ]
  },
  {
   "cell_type": "code",
   "execution_count": 15,
   "metadata": {},
   "outputs": [
    {
     "data": {
      "text/plain": [
       "[0, 1, 2, 3, 4, 5, 6, 7, 8, 9, 10, 11, 12, 13, 14, 15]"
      ]
     },
     "execution_count": 15,
     "metadata": {},
     "output_type": "execute_result"
    }
   ],
   "source": [
    "list(G.nodes())"
   ]
  },
  {
   "cell_type": "markdown",
   "metadata": {},
   "source": [
    "## An Animated Random Graph"
   ]
  },
  {
   "cell_type": "code",
   "execution_count": 16,
   "metadata": {},
   "outputs": [
    {
     "data": {
      "text/html": [
       "<script src=\"https://d3js.org/d3.v3.min.js\"></script>"
      ],
      "text/plain": [
       "<IPython.core.display.HTML object>"
      ]
     },
     "metadata": {},
     "output_type": "display_data"
    }
   ],
   "source": [
    "%%html\n",
    "<script src=\"https://d3js.org/d3.v3.min.js\"></script>"
   ]
  },
  {
   "cell_type": "code",
   "execution_count": 17,
   "metadata": {},
   "outputs": [
    {
     "data": {
      "text/html": [
       "<div id=\"random\">\n",
       "<div id=\"count\"></div>\n",
       "  <link rel=\"stylesheet\" href=\"random.css\">\n",
       "  <script src=\"random.js\"></script>\n",
       "</div>"
      ],
      "text/plain": [
       "<IPython.core.display.HTML object>"
      ]
     },
     "metadata": {},
     "output_type": "display_data"
    }
   ],
   "source": [
    "%%html\n",
    "<div id=\"random\">\n",
    "<div id=\"count\"></div>\n",
    "  <link rel=\"stylesheet\" href=\"random.css\">\n",
    "  <script src=\"random.js\"></script>\n",
    "</div>"
   ]
  },
  {
   "cell_type": "markdown",
   "metadata": {},
   "source": [
    "<div class=\"alert\">\n",
    "\n",
    "**Definition (ER Model $B$: Binomial Random Graphs).**\n",
    "Let $n \\geq 1$, let $N = \\binom{n}{2}$ and let $0 \\leq p \\leq 1$.\n",
    "\n",
    "\n",
    "The model $G(n, p)$ consists of the ensemble of graphs $G$\n",
    "with $n$ nodes $X = \\{1, 2, \\dots, n\\}$, and each of the $N$\n",
    "possible edges chosen with probability $p$.\n",
    "</div>"
   ]
  },
  {
   "cell_type": "markdown",
   "metadata": {},
   "source": [
    "The probability $P_G$ of a particular graph $G = (X, E)$ with \n",
    "$X = \\{1, 2, \\dots, n\\}$ and\n",
    "$m = |E|$ edges in the $G(n, p)$ model is\n",
    "$$\n",
    "P_G = p^m(1-p)^{N-m}.\n",
    "$$"
   ]
  },
  {
   "cell_type": "markdown",
   "metadata": {},
   "source": [
    "For example ..."
   ]
  },
  {
   "cell_type": "markdown",
   "metadata": {},
   "source": [
    "<img src=\"random-gnp.png\">"
   ]
  },
  {
   "cell_type": "markdown",
   "metadata": {},
   "source": [
    "Such a random graph is easy to generate programmatically, using python's basic random number generator\n",
    "`random.random()` which returns a random number in the (half-open) interval $[0, 1)$,\n",
    "every time it is called.  If this number is less then $p$, we include the edge, if not we don't."
   ]
  },
  {
   "cell_type": "code",
   "execution_count": 18,
   "metadata": {},
   "outputs": [],
   "source": [
    "def random_graph_B(n, p):\n",
    "    \"\"\"construct a random type B graph\n",
    "    with n nodes and edge probability p\"\"\"\n",
    "    G = nx.Graph()\n",
    "    G.add_nodes_from(range(n))\n",
    "    for a in range(n):\n",
    "        for b in range(a):\n",
    "            if random.random() < p:\n",
    "                G.add_edge(a, b)\n",
    "    return G"
   ]
  },
  {
   "cell_type": "code",
   "execution_count": 19,
   "metadata": {},
   "outputs": [
    {
     "data": {
      "text/plain": [
       "0.125"
      ]
     },
     "execution_count": 19,
     "metadata": {},
     "output_type": "execute_result"
    }
   ],
   "source": [
    "15/120"
   ]
  },
  {
   "cell_type": "code",
   "execution_count": 20,
   "metadata": {},
   "outputs": [
    {
     "data": {
      "image/png": "[encoded data removed]",
      "text/plain": [
       "<Figure size 432x288 with 1 Axes>"
      ]
     },
     "metadata": {},
     "output_type": "display_data"
    }
   ],
   "source": [
    "G = random_graph_B(16, 0.125)\n",
    "nx.draw(G, with_labels=True, node_color = 'y')"
   ]
  },
  {
   "cell_type": "code",
   "execution_count": 21,
   "metadata": {},
   "outputs": [
    {
     "data": {
      "text/plain": [
       "(16, 20)"
      ]
     },
     "execution_count": 21,
     "metadata": {},
     "output_type": "execute_result"
    }
   ],
   "source": [
    "G.number_of_nodes(), G.number_of_edges()"
   ]
  },
  {
   "cell_type": "code",
   "execution_count": 22,
   "metadata": {},
   "outputs": [
    {
     "data": {
      "image/png": "[encoded data removed]",
      "text/plain": [
       "<Figure size 432x288 with 1 Axes>"
      ]
     },
     "metadata": {},
     "output_type": "display_data"
    }
   ],
   "source": [
    "G = nx.gnp_random_graph(16,0.125)\n",
    "nx.draw(G, with_labels=True, node_color='lightblue')"
   ]
  },
  {
   "cell_type": "code",
   "execution_count": 23,
   "metadata": {},
   "outputs": [
    {
     "data": {
      "text/plain": [
       "(16, 11)"
      ]
     },
     "execution_count": 23,
     "metadata": {},
     "output_type": "execute_result"
    }
   ],
   "source": [
    "G.number_of_nodes(), G.number_of_edges()"
   ]
  },
  {
   "cell_type": "code",
   "execution_count": null,
   "metadata": {},
   "outputs": [],
   "source": []
  }
 ],
 "metadata": {
  "kernelspec": {
   "display_name": "Python 3",
   "language": "python",
   "name": "python3"
  },
  "language_info": {
   "codemirror_mode": {
    "name": "ipython",
    "version": 3
   },
   "file_extension": ".py",
   "mimetype": "text/x-python",
   "name": "python",
   "nbconvert_exporter": "python",
   "pygments_lexer": "ipython3",
   "version": "3.7.1"
  }
 },
 "nbformat": 4,
 "nbformat_minor": 2
}
