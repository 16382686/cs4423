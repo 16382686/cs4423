{
 "cells": [
  {
   "cell_type": "markdown",
   "metadata": {},
   "source": [
    "### CS4423 - Networks\n",
    "Prof. Götz Pfeiffer<br />\n",
    "School of Mathematics, Statistics and Applied Mathematics<br />\n",
    "NUI Galway"
   ]
  },
  {
   "cell_type": "markdown",
   "metadata": {},
   "source": [
    "#### 6. Power Laws and Scale-Free Graphs\n",
    "\n",
    "# Lecture 19:  Hubs and Authorities"
   ]
  },
  {
   "cell_type": "code",
   "execution_count": null,
   "metadata": {},
   "outputs": [],
   "source": [
    "import numpy as np\n",
    "import pandas as pd\n",
    "import networkx as nx\n",
    "import matplotlib.pyplot as plt"
   ]
  },
  {
   "cell_type": "markdown",
   "metadata": {},
   "source": [
    "### In-Degree vs. Out-Degree"
   ]
  },
  {
   "cell_type": "markdown",
   "metadata": {},
   "source": [
    "Recall **in-degree** and **out-degree centrality**:\n",
    "$$\n",
    "c_i^{D^{\\text{in}}} = k_i^{\\text{in}} = \\sum_{j=1}^n a_{ij},\n",
    "\\quad\n",
    "c_i^{D^{\\text{out}}} = k_i^{\\text{out}} = \\sum_{j=1}^n a_{ji},\n",
    "$$\n",
    "where $A = (a_{ij})$ is the adjacency matrix of a directed graph\n",
    "$G = (X, E)$ ..."
   ]
  },
  {
   "cell_type": "markdown",
   "metadata": {},
   "source": [
    "... and the corresponding **eigenvector centralities**:\n",
    "$$\n",
    "A c^{E^{\\text{in}}} = \\lambda c^{E^{\\text{in}}},\n",
    "\\quad\n",
    "A^{T} c^{E^{\\text{out}}} = \\lambda c^{E^{\\text{out}}}.\n",
    "$$"
   ]
  },
  {
   "cell_type": "markdown",
   "metadata": {},
   "source": [
    "###  Hub Centrality and Authority Centrality"
   ]
  },
  {
   "cell_type": "markdown",
   "metadata": {},
   "source": [
    "In a network of nodes connected by directed edges, each node\n",
    "plays two different roles, one as a receiver of links, and one as\n",
    "a sender of links.  A first measure of importance, or recognition, of\n",
    "a node in this network might be the number of\n",
    "links it receives, i.e., its **in-degree** in the underlying graph.\n",
    "If in a collection of web pages relating to a search query on the\n",
    "subject of \"networks\", say, a particular page receives a high number\n",
    "of links, this page might count as an **authority** on that subject,\n",
    "with **authority score** measured by its in-degree.\n",
    "\n",
    "In turn, the web pages linking to an authority in some sense know\n",
    "where to find valuable information and thus serve as good \"lists\" for\n",
    "the subject.\n",
    "A high value list is called a **hub** for this query.\n",
    "It makes sense to measure the value of a page as list in\n",
    "terms of the values of the pages it points at, by assigning to its\n",
    "**hub score** the sum of the authority scores of the pages it points\n",
    "at.\n"
   ]
  },
  {
   "cell_type": "markdown",
   "metadata": {},
   "source": [
    "![hubs](hubs.png)"
   ]
  },
  {
   "cell_type": "markdown",
   "metadata": {},
   "source": [
    "Now\n",
    "the authority score of a page  could take the hub scores\n",
    "of the list pages into account, by using the sum of the hub scores\n",
    "of the pages that point at it as an updated authority score.\n",
    "\n",
    "Then again, applying the **Principle of Repeated Improvement**,\n",
    "the hub scores can be updated on the basis of the new authority scores,\n",
    "and so on.\n",
    "\n",
    "This suggests a ranking procedure that tries to estimate, for each page $p$,\n",
    "its value as an authority and its value as a hub in the form\n",
    "of numerical scores, $a(p)$ and $h(p)$.\n",
    "\n",
    "Starting off with values all equal to $1$, the estimates are updated\n",
    "by applying the following two rules in an alternating fashion."
   ]
  },
  {
   "cell_type": "markdown",
   "metadata": {},
   "source": [
    "<div class=\"alert\">\n",
    "\n",
    "**Authority Update Rule:**\n",
    "For each page $p$, update $a(p)$\n",
    "to be the sum of the hub scores of all the pages pointing to it.\n",
    "</div>\n",
    "\n",
    "\n",
    "<div class=\"alert\">\n",
    "    \n",
    "**Hub Update Rule:**\n",
    "For each page $p$,\n",
    "update $h(p)$\n",
    "to be the sum of the authority\n",
    "scores of all the pages\n",
    "that it points to.\n",
    "</div>"
   ]
  },
  {
   "cell_type": "markdown",
   "metadata": {},
   "source": [
    "In order to keep the numbers from growing too large,\n",
    "score vectors should be **normalized** after each step,\n",
    "in a way that  replaces $h$ by a scalar multiple $\\hat{h} = sh$\n",
    "so that the entries in $\\hat{h}$ add up to $100$, say,\n",
    "representing relative percentage values,\n",
    "similarly for $a$.\n",
    "\n",
    "After a number of iterations, the values $a(p)$ and\n",
    "$h(p)$ stabilize, in the sense that further applications of\n",
    "the update rules do not yield essentially better relative estimates."
   ]
  },
  {
   "cell_type": "markdown",
   "metadata": {},
   "source": [
    "**Example.**\n",
    "Continuing the example above ..."
   ]
  },
  {
   "cell_type": "code",
   "execution_count": null,
   "metadata": {},
   "outputs": [],
   "source": [
    "nodes = list(range(1,10)) + [\"A%s\" % (i+1) for i in range(7)]\n",
    "print(nodes)"
   ]
  },
  {
   "cell_type": "code",
   "execution_count": null,
   "metadata": {},
   "outputs": [],
   "source": [
    "edges = [\n",
    "    (1,\"A1\"),(2,\"A1\"),(3,\"A1\"),(3,\"A2\"),(4,\"A2\"),(5,\"A3\"),\n",
    "    (5,\"A5\"),(6,\"A2\"),(6,\"A4\"),(7,\"A4\"),(7,\"A5\"),(8,\"A4\"),\n",
    "    (8,\"A5\"),(8,\"A6\"),(8,\"A7\"),(9,\"A5\"),(9,\"A6\"),(9,\"A7\")\n",
    "]"
   ]
  },
  {
   "cell_type": "code",
   "execution_count": null,
   "metadata": {},
   "outputs": [],
   "source": [
    "G = nx.DiGraph()\n",
    "G.add_nodes_from(nodes)\n",
    "G.add_edges_from(edges)"
   ]
  },
  {
   "cell_type": "code",
   "execution_count": null,
   "metadata": {},
   "outputs": [],
   "source": [
    "pos = nx.circular_layout(G)\n",
    "for i in [1,2,3,4]:\n",
    "    j = 10 - i\n",
    "    pos[i], pos[j] = pos[j], pos[i]\n",
    "colors = 9 * ['y'] + 7 * ['w']"
   ]
  },
  {
   "cell_type": "code",
   "execution_count": null,
   "metadata": {},
   "outputs": [],
   "source": [
    "nx.draw(G, with_labels=True, node_color=colors, pos=pos)"
   ]
  },
  {
   "cell_type": "code",
   "execution_count": null,
   "metadata": {},
   "outputs": [],
   "source": [
    "A = nx.adjacency_matrix(G)\n",
    "print(A.todense())"
   ]
  },
  {
   "cell_type": "code",
   "execution_count": null,
   "metadata": {},
   "outputs": [],
   "source": [
    "AT = A.transpose()"
   ]
  },
  {
   "cell_type": "code",
   "execution_count": null,
   "metadata": {},
   "outputs": [],
   "source": [
    "h = [1 for node in G]\n",
    "a = [1 for node in G]\n",
    "print(\"a = \", a)\n",
    "print(\"h = \", h)"
   ]
  },
  {
   "cell_type": "code",
   "execution_count": null,
   "metadata": {
    "scrolled": false
   },
   "outputs": [],
   "source": [
    "a = AT * h\n",
    "a = 100/sum(a) * a\n",
    "print(\"a = \", a[9:])"
   ]
  },
  {
   "cell_type": "code",
   "execution_count": null,
   "metadata": {},
   "outputs": [],
   "source": [
    "h = A * a\n",
    "h = 100/sum(h) * h\n",
    "print(\"h = \", h[:9])"
   ]
  },
  {
   "cell_type": "code",
   "execution_count": null,
   "metadata": {},
   "outputs": [],
   "source": [
    "aaa = [a]\n",
    "hhh = [h]"
   ]
  },
  {
   "cell_type": "code",
   "execution_count": null,
   "metadata": {},
   "outputs": [],
   "source": [
    "for i in range(9):\n",
    "    a = AT * h\n",
    "    a = 100/sum(a) * a\n",
    "    print(\"a = \", a[9:]) \n",
    "    aaa.append(a)\n",
    "    h = A * a\n",
    "    h = 100/sum(h) * h\n",
    "    print(\"h = \", h[:9])\n",
    "    hhh.append(h)"
   ]
  },
  {
   "cell_type": "code",
   "execution_count": null,
   "metadata": {},
   "outputs": [],
   "source": [
    "pd.DataFrame(hhh)"
   ]
  },
  {
   "cell_type": "code",
   "execution_count": null,
   "metadata": {},
   "outputs": [],
   "source": [
    "pd.DataFrame(aaa)"
   ]
  },
  {
   "cell_type": "markdown",
   "metadata": {},
   "source": [
    "In terms of matrix algebra this effect can be described as follows."
   ]
  },
  {
   "cell_type": "markdown",
   "metadata": {},
   "source": [
    "##  Spectral Analysis of Hubs and Authorities"
   ]
  },
  {
   "cell_type": "markdown",
   "metadata": {},
   "source": [
    "Let $M = (m_{ij})$ be the **adjacency matrix** of the directed graph\n",
    "$G = (X, E)$\n",
    "that is $m_{ij} = 1$ if $x_i \\to x_j$ and $m_{ij} = 0$ otherwise,\n",
    "where $X = \\{x_1, \\dots, x_n\\}$.\n",
    "\n",
    "We write $h = (h_1, \\dots, h_n)$ for a list of hub scores, with $h_i = h(x_i)$,\n",
    "the hub score of node $x_i$.  Similarly, we write $a = (a_1, \\dots, a_l)$ for\n",
    "a list of authority scores."
   ]
  },
  {
   "cell_type": "markdown",
   "metadata": {},
   "source": [
    "The **hub update rule** can now be expressed as\n",
    "a matrix multiplication:\n",
    "$$\n",
    "h \\gets M a\n",
    "$$\n",
    "and similarly, the **authority update rule**, using the transpose of the matrix $M$:\n",
    "$$\n",
    "a \\gets M^{T} h\n",
    "$$"
   ]
  },
  {
   "cell_type": "markdown",
   "metadata": {},
   "source": [
    "Applying two steps of the procedure at once yields update rules\n",
    "$$\n",
    "  h \\gets M M^T h\n",
    "$$\n",
    "and\n",
    "$$\n",
    "  a \\gets M^T M \\, a\n",
    "$$\n",
    "for $h$ and $a$, respectively.  "
   ]
  },
  {
   "cell_type": "markdown",
   "metadata": {},
   "source": [
    "**In the limit**, one expects\n",
    "to get vectors $h^{\\ast}$ and $a^{\\ast}$ whose directions do not change\n",
    "under the latter rules, i.e.,\n",
    "$$\n",
    "  (M M^T) h^{\\ast} = c h^{\\ast}\n",
    "$$\n",
    "and\n",
    "$$\n",
    "  (M^T M) a^{\\ast} = d a^{\\ast}\n",
    "$$\n",
    "for constants $c$ and $d$, meaning that $h^{\\ast}$ and $a^{\\ast}$\n",
    "are **eigenvectors** for the matrices $M M^T$ and $M^T M$,\n",
    "respectively."
   ]
  },
  {
   "cell_type": "markdown",
   "metadata": {},
   "source": [
    "Using the fact that $M M^T$ and $M^T M$ are **symmetric** matrices\n",
    "($(M M^T)^T = (M^T)^T M^T = M M^T$),\n",
    "it can indeed be shown that any sequence of hub score vectors\n",
    "$h$ under repeated application of the above update rule\n",
    "converges to a real-valued eigenvector $h^{\\ast}$ of $M M^T$ for the real eigenvalue $c$.\n",
    "A similar result exists for any sequence of authority score vectors $a$."
   ]
  },
  {
   "cell_type": "code",
   "execution_count": null,
   "metadata": {},
   "outputs": [],
   "source": []
  }
 ],
 "metadata": {
  "kernelspec": {
   "display_name": "Python 3",
   "language": "python",
   "name": "python3"
  },
  "language_info": {
   "codemirror_mode": {
    "name": "ipython",
    "version": 3
   },
   "file_extension": ".py",
   "mimetype": "text/x-python",
   "name": "python",
   "nbconvert_exporter": "python",
   "pygments_lexer": "ipython3",
   "version": "3.7.1"
  }
 },
 "nbformat": 4,
 "nbformat_minor": 2
}
