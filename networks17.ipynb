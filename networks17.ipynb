{
 "cells": [
  {
   "cell_type": "markdown",
   "metadata": {},
   "source": [
    "### CS4423 - Networks\n",
    "Prof. Götz Pfeiffer<br />\n",
    "School of Mathematics, Statistics and Applied Mathematics<br />\n",
    "NUI Galway"
   ]
  },
  {
   "cell_type": "markdown",
   "metadata": {},
   "source": [
    "#### 6. Power Laws and Scale-Free Graphs\n",
    "\n",
    "# Lecture 17: The Structure of the World Wide Web"
   ]
  },
  {
   "cell_type": "markdown",
   "metadata": {},
   "source": [
    "Happy 30th Birthday, [WWW](https://webfoundation.org/2019/03/12/web-birthday-30/)!\n",
    "\n",
    "So far, the networks that have been discussed most of the time\n",
    "consisted of people or organizations, connected by links representing\n",
    "opportunities for interactions.   The World Wide Web is an example\n",
    "of a network of a different kind, a so-called **information network**."
   ]
  },
  {
   "cell_type": "code",
   "execution_count": null,
   "metadata": {},
   "outputs": [],
   "source": [
    "import numpy as np\n",
    "import pandas as pd\n",
    "import networkx as nx\n",
    "import matplotlib.pyplot as plt"
   ]
  },
  {
   "cell_type": "markdown",
   "metadata": {},
   "source": [
    "###  Information Networks"
   ]
  },
  {
   "cell_type": "markdown",
   "metadata": {},
   "source": [
    "Information networks connect pieces of information,\n",
    "like documents, or parts of documents, through links\n",
    "that represent references of some kind.  Such links,\n",
    "in contrast to social relationships which are typically symmetric,\n",
    "only point in one direction.\n",
    "The underlying graph of an information network thus\n",
    "is a **directed graph**."
   ]
  },
  {
   "cell_type": "markdown",
   "metadata": {},
   "source": [
    "Information networks have existed before the internet.  Some prominent\n",
    "examples include:\n",
    "\n",
    "* **Academic Publications.**  In the scientific literature it is customary\n",
    "to give credit to sources that have been used in the form of\n",
    "references to those publications that contain those sources.\n",
    "This practice creates a network whose nodes are the\n",
    "publications, and whose links represent the references, pointing from\n",
    "the citing article back to the cited article.\n",
    "A large part of this network in the mathematical literature is\n",
    "captured on [MathSciNet](http://www.ams.org/mathscinet).\n",
    "\n",
    "* **Mathematical Proofs.**  In mathematics, the proof of a particular theorem\n",
    "usually relies on theorems that have already been proved.\n",
    "Citing a theorem in a proof thus creates a link from the theorem\n",
    "being proved back to the theorem being used, in a network of mathematical\n",
    "theorems.  In a similar way, a complex computer program,\n",
    "consisting of several subroutines, can be regarded\n",
    "as a network of subroutines, pointing to each other through links\n",
    "that arise from one subroutine calling another.\n",
    "\n",
    "* **Technical Documentation.** The documentation of complex systems,\n",
    "such as computer software, typically consists of a collection of\n",
    "articles (manual pages), each describing one aspect of the system,\n",
    "frequently using cross-references to each other.  Here the network\n",
    "consists of the manual pages, and the links represent those cross\n",
    "references.  In a similar way, an encyclopedia (or a dictionary)\n",
    "organizes its content as a sequence of articles, sorted\n",
    "alphabetically, with supporting cross-references."
   ]
  },
  {
   "cell_type": "markdown",
   "metadata": {},
   "source": [
    "### Hypertext"
   ]
  },
  {
   "cell_type": "markdown",
   "metadata": {},
   "source": [
    "The **World Wide Web** arose out of the desire to make technical\n",
    "documentation more easily accessible by using the physical infrastructure\n",
    "of the rapidly growing internet.\n",
    "It was conceived by [Tim Berners-Lee](https://en.wikipedia.org/wiki/Tim_Berners-Lee) around 1990\n",
    "as information management system at [CERN](http://info.cern.ch/hypertext/WWW/TheProject.html)."
   ]
  },
  {
   "cell_type": "markdown",
   "metadata": {},
   "source": [
    "In this system, documents are **web pages**, that anyone can create\n",
    "and store in a publicly accessible place on their computer.  Moreover,\n",
    "it supplies a **web browser**, a piece of software that can retrieve\n",
    "the web pages from those public spaces, allowing others to easily\n",
    "access those documents."
   ]
  },
  {
   "cell_type": "markdown",
   "metadata": {},
   "source": [
    "Web pages contain **hypertext**, that is a mixture of plain text and **hyperlinks**.  Here, a hyperlink (or just link) is a reference to another document\n",
    "that the reader can follow by clicking.  Hyperlinks have a **source**\n",
    "(the document they are contained in) and a **target** (the document\n",
    "they reference).\n",
    "This creates a network of documents as nodes\n",
    "and hyperlinks as **directed edges** between them."
   ]
  },
  {
   "cell_type": "markdown",
   "metadata": {},
   "source": [
    "There are many alternative ways to organize information: alphabetically\n",
    "(like the telephone book),\n",
    "hierarchical (in folders like the files on a computer), ...\n",
    "Certainly, the physical constraints of the environment\n",
    "(like the fact that books need to be stored on shelves,\n",
    "that pages in a book come in order)\n",
    "have an influence on how well a particular solution works."
   ]
  },
  {
   "cell_type": "markdown",
   "metadata": {},
   "source": [
    "Hypertext makes logical relationships\n",
    "within and between texts (which traditionally are only implicit)\n",
    "explicit first class objects.\n",
    "The browser makes links immediately actionable."
   ]
  },
  {
   "cell_type": "markdown",
   "metadata": {},
   "source": [
    "Hypertext originates from the works of the visionaries\n",
    "[Vannevar Bush](https://en.wikipedia.org/wiki/Vannevar_Bush) (the Memex, 1945) and\n",
    "[Ted Nelson](https://en.wikipedia.org/wiki/Vannevar_Bush) (Xanadu Project, 1965)."
   ]
  },
  {
   "cell_type": "markdown",
   "metadata": {},
   "source": [
    "It will be useful to distinguish between **navigational links**\n",
    "(providing access to related pages)\n",
    "and **transactional links** (which exist more\n",
    "for a side effect, like ordering a book,\n",
    "or sending an email, than\n",
    "for the sake of leading to the next page).\n",
    "The distinction is not always clear,\n",
    "but transactional links are the kind that is of\n",
    "little interest for search engines.\n",
    "It's the navigational links that\n",
    "form the edges of the directed graph\n",
    "that turns the Web into\n",
    "an information network."
   ]
  },
  {
   "cell_type": "markdown",
   "metadata": {},
   "source": [
    "As with undirected graphs, an interesting question in\n",
    "directed graphs is: which nodes can be reached from\n",
    "a given node?"
   ]
  },
  {
   "cell_type": "markdown",
   "metadata": {},
   "source": [
    "### Reachability in Directed Graphs"
   ]
  },
  {
   "cell_type": "markdown",
   "metadata": {},
   "source": [
    "Recall that a **directed graph** is a pair $G = (X, E)$\n",
    "with **vertex set** $X$  and **edge set** $E \\subseteq X^2 = X \\times X$.\n",
    "For an edge $(x, y) \\in E$ we sometimes write $x \\to y$."
   ]
  },
  {
   "cell_type": "markdown",
   "metadata": {},
   "source": [
    "A **path** in a directed graph  $G = (X, E)$\n",
    "is a sequence of nodes $(x_0, x_1, \\dots, x_l)$\n",
    "with $x_{i-1} \\to x_i$ for $i = 1,\\dots, l$.\n",
    "The number $l$ is called the **length** of the path.\n",
    "We write $x \\leadsto y$\n",
    "if there exists a path (possibly of length $0$)\n",
    "from $x$ to $y$ in $G$."
   ]
  },
  {
   "cell_type": "markdown",
   "metadata": {},
   "source": [
    "A directed graph $G$ is **weakly connected** if, when\n",
    "considerd as undirected graph, it is connected.\n",
    "The **weakly connnected components** (WCCs) of $G$ are its connected components,\n",
    "when considered as undirected graph."
   ]
  },
  {
   "cell_type": "markdown",
   "metadata": {},
   "source": [
    "A directed graph $G$ is **strongly connected** if, for\n",
    "each pair of vertices $x, y \\in X$, there is a path from\n",
    "$x$ to $y$ in $G$, i.e., if $x \\leadsto y$."
   ]
  },
  {
   "cell_type": "markdown",
   "metadata": {},
   "source": [
    "A **strongly connected component (SCC)** of a directed graph $G$\n",
    "is a subset $C$ of $X$ which is (i) strongly connected,\n",
    "and (ii) not part of a larger strongly connected subset of $X$."
   ]
  },
  {
   "cell_type": "markdown",
   "metadata": {},
   "source": [
    "In general, a directed graph is a collection of WCCs.\n",
    "Each WCC in turn is a SCC."
   ]
  },
  {
   "cell_type": "markdown",
   "metadata": {},
   "source": [
    "When a directed graph $G$ is regarded as a **relation**\n",
    "on the set $X$, strongly connected components can be described as\n",
    "the **equivalence classes** of an equivalence relation that is obtained\n",
    "as follows."
   ]
  },
  {
   "cell_type": "markdown",
   "metadata": {},
   "source": [
    "First note that the relation ${x \\leadsto y}$\n",
    "is the reflexive and transitive closure of the\n",
    "edge relation $x \\to y$.  Thus, by construction it is reflexive and\n",
    "transitive.  It might not be anti-symmetric, though,\n",
    "meaning that there might be vertices $x$ and $y$\n",
    "with $x\\leadsto y$ and $y \n",
    "\\leadsto x$."
   ]
  },
  {
   "cell_type": "markdown",
   "metadata": {},
   "source": [
    "However, the new relation $x \\equiv y$,\n",
    "defined as $x \\leadsto y$ and $y \\leadsto x$\n",
    "is an equivalence relation (why?)\n",
    "and its equivalence classes are the strongly connected\n",
    "components of $G$.  Denote the class of $x \\in X$ by $[x]$."
   ]
  },
  {
   "cell_type": "markdown",
   "metadata": {},
   "source": [
    "Moreover, there is a partial order relation\n",
    "$\\leq$ (a relation which is reflexive, transitive and anti-symmetric)\n",
    "on the set of equivalence classes,\n",
    "$[x] \\leq [y]$ if $x \\leadsto\n",
    "y$."
   ]
  },
  {
   "cell_type": "markdown",
   "metadata": {},
   "source": [
    "### The Bow-Tie Structure of the WWW"
   ]
  },
  {
   "cell_type": "markdown",
   "metadata": {},
   "source": [
    "Like the giant component in a simple graph,\n",
    "a directed graph with sufficiently many edges\n",
    "has  a giant SCC.\n",
    "\n",
    "The remainder of the graph consists of four more sets of components of nodes.\n",
    "\n",
    "1. IN: upstream components, the set of all components\n",
    "$C$ with $C <$ SCC.\n",
    "\n",
    "2. OUT: downstream components,\n",
    "the set of all components $C$ with $C >$ SCC.\n",
    "\n",
    "3. tendrils: the set of all components $C$ with either $C >$ IN and $C \\not<$ OUT\n",
    "or $C <$ OUT and $C \\not>$ IN; <BR />\n",
    "and tubes: components $C$ with $C >$ IN, $C <$ OUT but $C \\not <$ SCC.\n",
    "\n",
    "4. disconnected components.\n",
    "\n",
    "Thus, in any directed graph with a distinguished SCC,\n",
    "the containing WCC\n",
    "necessarily has the following global bow-tie structure:\n",
    "\n"
   ]
  },
  {
   "cell_type": "markdown",
   "metadata": {},
   "source": [
    "![bow tie](bowtie.png)"
   ]
  },
  {
   "cell_type": "markdown",
   "metadata": {},
   "source": [
    "For example,"
   ]
  },
  {
   "cell_type": "markdown",
   "metadata": {},
   "source": [
    "![](web.png)"
   ]
  },
  {
   "cell_type": "markdown",
   "metadata": {},
   "source": [
    "Research on available data on the Web in 1999 has confirmed this\n",
    "bow tie structure for the World Wide Web, with a large Giant SCC\n",
    "covering less than $\\frac13$ of the vertex set,\n",
    "and the\n",
    "three parts IN, OUT and the tendrils and tubes roughly of the same\n",
    "size.  One can assume that this proportion has not changed much over\n",
    "time, although the advent of social media\n",
    "has brought many new types of links and\n",
    "documents to the Web.\n"
   ]
  },
  {
   "cell_type": "code",
   "execution_count": null,
   "metadata": {},
   "outputs": [],
   "source": []
  }
 ],
 "metadata": {
  "kernelspec": {
   "display_name": "Python 3",
   "language": "python",
   "name": "python3"
  },
  "language_info": {
   "codemirror_mode": {
    "name": "ipython",
    "version": 3
   },
   "file_extension": ".py",
   "mimetype": "text/x-python",
   "name": "python",
   "nbconvert_exporter": "python",
   "pygments_lexer": "ipython3",
   "version": "3.7.1"
  }
 },
 "nbformat": 4,
 "nbformat_minor": 2
}
