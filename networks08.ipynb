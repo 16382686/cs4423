{
 "cells": [
  {
   "cell_type": "markdown",
   "metadata": {},
   "source": [
    "### CS4423 - Networks\n",
    "Prof. Götz Pfeiffer<br />\n",
    "School of Mathematics, Statistics and Applied Mathematics<br />\n",
    "NUI Galway"
   ]
  },
  {
   "cell_type": "markdown",
   "metadata": {},
   "source": [
    "#### 2. Centrality Measures\n",
    "\n",
    "# Lecture 8: Closeness and Betweenness  Centrality"
   ]
  },
  {
   "cell_type": "markdown",
   "metadata": {},
   "source": [
    "... continuing from last time.  First, load the libraries."
   ]
  },
  {
   "cell_type": "code",
   "execution_count": null,
   "metadata": {},
   "outputs": [],
   "source": [
    "import networkx as nx\n",
    "import pandas as pd\n",
    "import matplotlib.pyplot as plt"
   ]
  },
  {
   "cell_type": "markdown",
   "metadata": {},
   "source": [
    "Next, recover the graph `G` of marital ties between Florentine families, together with the node attributes we have already determined."
   ]
  },
  {
   "cell_type": "code",
   "execution_count": null,
   "metadata": {},
   "outputs": [],
   "source": [
    "G = nx.read_yaml(\"florentine.yml\")\n",
    "print(G.number_of_nodes())\n",
    "G.nodes['Medici']"
   ]
  },
  {
   "cell_type": "code",
   "execution_count": null,
   "metadata": {},
   "outputs": [],
   "source": [
    "G.number_of_nodes()"
   ]
  },
  {
   "cell_type": "code",
   "execution_count": null,
   "metadata": {},
   "outputs": [],
   "source": [
    "cc = list(nx.connected_components(G))[0]\n",
    "GG = G.subgraph(cc)"
   ]
  },
  {
   "cell_type": "markdown",
   "metadata": {},
   "source": [
    "### Eigenvectors and Centrality (cont'd.)"
   ]
  },
  {
   "cell_type": "markdown",
   "metadata": {},
   "source": [
    "Recall that\n",
    "$$\n",
    "\\left(\n",
    "\\begin{array}{cc}\n",
    "3 & 1 \\\\ 2 & 2\n",
    "\\end{array}\n",
    "\\right)\n",
    "\\, \n",
    "\\left(\n",
    "\\begin{array}{c}\n",
    "1 \\\\ 1\n",
    "\\end{array}\n",
    "\\right)\n",
    "= \n",
    "\\left(\n",
    "\\begin{array}{c}\n",
    "4 \\\\ 4\n",
    "\\end{array}\n",
    "\\right)\n",
    "=\n",
    "4 \\,\n",
    "\\left(\n",
    "\\begin{array}{c}\n",
    "1 \\\\ 1\n",
    "\\end{array}\n",
    "\\right),\n",
    "$$\n",
    "making the vector $(^1_1)$ an **eigenvector** for the **eigenvalue**\n",
    "$\\lambda = 4$ of the matrix $A$.\n",
    "\n",
    "In this example\n",
    "* all entries $a_{ij}$ of  the matrix $A = (a_{ij})$ are positive;\n",
    "* the eigenvalue $4$ is strictly larger than the magnitude $|\\lambda'|$ of all the other (complex or real) eigenvalues of\n",
    "$A$ (here, $\\lambda' = -1$);\n",
    "* and the eigenvalue $\\lambda = 4$ has an eigenvector with\n",
    "all its entries positive."
   ]
  },
  {
   "cell_type": "markdown",
   "metadata": {},
   "source": [
    "The theoretical foundation for eigenvector centrality\n",
    "is provided by the\n",
    "following Linear Algebra [theorem](https://en.wikipedia.org/wiki/Perron%E2%80%93Frobenius_theorem) from 1907/1912,\n",
    "which basically states that the above observations are no\n",
    "coincidence."
   ]
  },
  {
   "cell_type": "markdown",
   "metadata": {},
   "source": [
    "<div class=\"alert\">\n",
    "<b>Theorem.</b> (Perron-Frobenius for irreducible matrices.)\n",
    "Suppose that $A$ is a square, nonnegative, irreducible matrix. Then:\n",
    "\n",
    "* $A$ has a real eigenvalue $\\lambda > 0$ with $\\lambda \\geq |\\lambda'|$ for all\n",
    "eigenvalues $\\lambda'$ of $A$;\n",
    "* $\\lambda$ is a simple root of the characteristic polynomial of $A$;\n",
    "* there is a $\\lambda$-eigenvector $v$ with $v > 0$.\n",
    "</div>"
   ]
  },
  {
   "cell_type": "markdown",
   "metadata": {},
   "source": [
    "Here, a matrix $A$ is called **reducible** if, for some simultaneous\n",
    "permutation of its rows and columns, it has the block form\n",
    "$$\n",
    "A = \\left( \n",
    "\\begin{array}{cc}\n",
    "A_{11} & A_{12} \\\\\n",
    "0 & A_{21}\n",
    "\\end{array}\n",
    "\\right).\n",
    "$$\n",
    "And $A$ is **irreducible** if it is not reducible.\n",
    "\n",
    "The incidence matrix of a simple graph $G$ is irreducible if and only if $G$ is connected."
   ]
  },
  {
   "cell_type": "markdown",
   "metadata": {},
   "source": [
    "<div class=\"alert\">\n",
    "\n",
    "**Definition (Eigenvector centrality).**  In a simple, connected graph $G$,\n",
    "the **eigenvector centrality** $c_i^E$ of node $i$ is defined as\n",
    "$$\n",
    "c_i^E = u_i,\n",
    "$$\n",
    "where $u = (u_1, \\dots, u_n)$ is the (unique) normalized eigenvector\n",
    "of the adjacency matrix $A$ of $G$\n",
    "with eigenvalue $\\lambda$, and where $\\lambda > |\\lambda'|$\n",
    "for all eigenvalues $\\lambda'$ of $A$.\n",
    "\n",
    "The **normalised eigenvector centrality** of node $i$ is defined as\n",
    "$$\n",
    "C_i^E = \\frac{c_i^E}{C^E},\n",
    "$$\n",
    "where $C^E = \\sum_j c_j^E$.\n",
    "\n",
    "</div>"
   ]
  },
  {
   "cell_type": "markdown",
   "metadata": {},
   "source": [
    "Let's attach the eigenvector centralities as node attributes\n",
    "and display the resulting table."
   ]
  },
  {
   "cell_type": "code",
   "execution_count": null,
   "metadata": {},
   "outputs": [],
   "source": [
    "eigen_cen = nx.eigenvector_centrality(GG)\n",
    "nx.set_node_attributes(G, eigen_cen, '$c_i^E$')"
   ]
  },
  {
   "cell_type": "code",
   "execution_count": null,
   "metadata": {},
   "outputs": [],
   "source": [
    "pd.DataFrame.from_dict(dict(GG.nodes(data=True)), orient='index').sort_values('degree', ascending=False)"
   ]
  },
  {
   "cell_type": "markdown",
   "metadata": {},
   "source": [
    "### Closeness centrality"
   ]
  },
  {
   "cell_type": "markdown",
   "metadata": {},
   "source": [
    "A node $x$ in a network can be regarded as being central, if it is **close** to (many) other nodes, \n",
    "as it can then quickly interact with them.  A simple way to measure closeness in this sense\n",
    "is based on the sum of all the distances to the other nodes, as follows."
   ]
  },
  {
   "cell_type": "markdown",
   "metadata": {},
   "source": [
    "<div class=\"alert\">\n",
    "\n",
    "**Definition (Closeness Centrality).**\n",
    "In a simple, connected graph $G$, the **closeness centrality** $c_i^C$ of node $i$\n",
    "is defined as\n",
    "$$\n",
    "c_i^C = \\Bigl(\\sum_j d_{ij}\\Bigr)^{-1}.\n",
    "$$\n",
    "\n",
    "The **normalized closeness centrality** of node $i$, defined as\n",
    "$$\n",
    "C_i^C = (n-1) c_i^C\n",
    "$$\n",
    "takes values in the interval $[0, 1]$.\n",
    "</div>"
   ]
  },
  {
   "cell_type": "markdown",
   "metadata": {},
   "source": [
    "Why is $0 \\leq C_i^D \\leq 1$?  When is $C_i^D = 1$?"
   ]
  },
  {
   "cell_type": "markdown",
   "metadata": {},
   "source": [
    "**BFS again.**  This time as a python function, which takes a graph $G = (X, E)$ and a vertex $x \\in X$\n",
    "as its arguments. It returns a **dictionary**, which for each node as key has the distance to\n",
    "$x$ as its value."
   ]
  },
  {
   "cell_type": "code",
   "execution_count": null,
   "metadata": {},
   "outputs": [],
   "source": [
    "from queue import Queue\n",
    "\n",
    "def dists(graph, node):\n",
    "    \n",
    "    # 1. init: set up the dictionary and queue\n",
    "    dists = { x : None for x in graph.nodes() }\n",
    "    dists[node] = 0\n",
    "    q = Queue()\n",
    "    q.put(node)\n",
    "    \n",
    "    # 2. loop\n",
    "    while not q.empty():\n",
    "        x = q.get()\n",
    "        for y in G.neighbors(x):\n",
    "            if dists[y] == None:\n",
    "                dists[y] = dists[x] + 1\n",
    "                q.put(y)\n",
    "    \n",
    "    # 3. stop here\n",
    "    return dists"
   ]
  },
  {
   "cell_type": "code",
   "execution_count": null,
   "metadata": {},
   "outputs": [],
   "source": [
    "d = dists(G, 'Medici')"
   ]
  },
  {
   "cell_type": "code",
   "execution_count": null,
   "metadata": {},
   "outputs": [],
   "source": [
    "d"
   ]
  },
  {
   "cell_type": "code",
   "execution_count": null,
   "metadata": {},
   "outputs": [],
   "source": [
    "cc = list(nx.connected_components(G))[0]\n",
    "GG = G.subgraph(cc)"
   ]
  },
  {
   "cell_type": "code",
   "execution_count": null,
   "metadata": {},
   "outputs": [],
   "source": [
    "nx.draw(GG)"
   ]
  },
  {
   "cell_type": "code",
   "execution_count": null,
   "metadata": {},
   "outputs": [],
   "source": [
    "d = dists(GG, 'Medici')"
   ]
  },
  {
   "cell_type": "code",
   "execution_count": null,
   "metadata": {},
   "outputs": [],
   "source": [
    "sum(d.values())"
   ]
  },
  {
   "cell_type": "code",
   "execution_count": null,
   "metadata": {},
   "outputs": [],
   "source": [
    "n = GG.number_of_nodes()\n",
    "close_cen = { x : (n-1)/sum(dists(GG, x).values()) for x in GG.nodes() }"
   ]
  },
  {
   "cell_type": "code",
   "execution_count": null,
   "metadata": {},
   "outputs": [],
   "source": [
    "close_cen"
   ]
  },
  {
   "cell_type": "code",
   "execution_count": null,
   "metadata": {},
   "outputs": [],
   "source": [
    "nx.closeness_centrality(GG)"
   ]
  },
  {
   "cell_type": "code",
   "execution_count": null,
   "metadata": {},
   "outputs": [],
   "source": [
    "nx.set_node_attributes(G, close_cen, '$C_i^C$')"
   ]
  },
  {
   "cell_type": "code",
   "execution_count": null,
   "metadata": {},
   "outputs": [],
   "source": [
    "pd.DataFrame.from_dict(dict(G.nodes(data=True)), orient='index').sort_values('degree', ascending=False)"
   ]
  },
  {
   "cell_type": "markdown",
   "metadata": {},
   "source": [
    "### Betweenness Centrality"
   ]
  },
  {
   "cell_type": "markdown",
   "metadata": {},
   "source": [
    "**BFS once more.**  This time as a python function, which returns a **dictionaries**, which contains, for each node $y$, a list of **immediate predecessors** of $y$\n",
    "in a shortest path from $x$ to $y$.  Yes, that's another piece of information, BFS can determine\n",
    "on the fly.  From this, recursively, one can reconstruct **all shortest paths** from $x$ to $y$.\n",
    "We still need to compute the shortest path lengths as part of the algorithm."
   ]
  },
  {
   "cell_type": "code",
   "execution_count": null,
   "metadata": {},
   "outputs": [],
   "source": [
    "from queue import Queue\n",
    "\n",
    "def preds(graph, node):\n",
    "    \n",
    "    # 1. init: set up the two dictionaries and queue\n",
    "    dists = { x : None for x in graph.nodes() }\n",
    "    preds = { x : [] for x in graph.nodes() }\n",
    "    dists[node] = 0\n",
    "    q = Queue()\n",
    "    q.put(node)\n",
    "    \n",
    "    # 2. loop\n",
    "    while not q.empty():\n",
    "        x = q.get()\n",
    "        for y in G.neighbors(x):\n",
    "            if dists[y] == None:\n",
    "                dists[y] = dists[x] + 1\n",
    "                q.put(y)\n",
    "                preds[y].append(x)\n",
    "            elif dists[y] == dists[x] + 1:\n",
    "                preds[y].append(x)\n",
    "    \n",
    "    # 3. stop here\n",
    "    return preds"
   ]
  },
  {
   "cell_type": "code",
   "execution_count": null,
   "metadata": {},
   "outputs": [],
   "source": [
    "p = preds(GG, 'Medici')\n",
    "p"
   ]
  },
  {
   "cell_type": "markdown",
   "metadata": {},
   "source": [
    "When interactions between non-adjacent agents in a network depend\n",
    "on middle men (on shortest paths between these agents, power comes\n",
    "to those in the middle.  Betweennness centrality measures centrality\n",
    "in terms of the number of shortest paths a node lies on."
   ]
  },
  {
   "cell_type": "markdown",
   "metadata": {},
   "source": [
    "<div class=\"alert\">\n",
    "    \n",
    "**Defintion (Betweenness Centrality).**\n",
    "In a simple, connected graph $G$, the **betweenness centrality** $c_i^B$ of node $i$\n",
    "is defined as\n",
    "$$\n",
    "c_i^B = \\sum_{j \\neq i} \\sum_{k \\neq i} \\frac{n_{jk}(i)}{n_{jk}},\n",
    "$$\n",
    "where $n_{jk}$ denotes the **number** of shortest paths from\n",
    "node $i$ to node $j$, and where $n_{jk}(i)$ denotes the\n",
    "number of those shortest paths **passing through** node $i$.\n",
    "\n",
    "The **normalized betweenness centrality** of node $i$, defined as\n",
    "$$\n",
    "C_i^B = \\frac{c_i^B}{(n-1)(n-2)}\n",
    "$$\n",
    "takes values in the interval $[0, 1]$.\n",
    "</div>"
   ]
  },
  {
   "cell_type": "markdown",
   "metadata": {},
   "source": [
    "Using the predcessor lists, shortest paths can be enumerated recursively:\n",
    "the shortest path from $x$ to itself is the empty path starting an ending at $x$.\n",
    "Else, if $y \\neq x$ then each shortest path from $y$ to $x$ travels through\n",
    "exactly one of $y$'s predecessors ... and ends in $y$."
   ]
  },
  {
   "cell_type": "code",
   "execution_count": null,
   "metadata": {},
   "outputs": [],
   "source": [
    "def shortest_paths(x, y, pre):\n",
    "    if x == y:\n",
    "        return [[x]]\n",
    "    else:\n",
    "        paths = []\n",
    "        for p in pre[y]:\n",
    "            for path in shortest_paths(x, p, pre):\n",
    "                paths.append(path + [y])\n",
    "        \n",
    "        return paths"
   ]
  },
  {
   "cell_type": "code",
   "execution_count": null,
   "metadata": {},
   "outputs": [],
   "source": [
    "shortest_paths('Medici', 'Pazzi', p)"
   ]
  },
  {
   "cell_type": "code",
   "execution_count": null,
   "metadata": {},
   "outputs": [],
   "source": [
    "between = { x : 0 for x in GG.nodes() }"
   ]
  },
  {
   "cell_type": "code",
   "execution_count": null,
   "metadata": {},
   "outputs": [],
   "source": [
    "n = GG.number_of_nodes()\n",
    "for x in GG.nodes():\n",
    "    pre = preds(GG, x)\n",
    "    for y in GG.nodes():\n",
    "        paths = shortest_paths(x, y, pre)\n",
    "        njk = len(paths)*(n-1)*(n-2)\n",
    "        for p in shortest_paths(x, y, pre):\n",
    "            for z in p[1:-1]:  # exclude endpoints\n",
    "                between[z] += 1/njk"
   ]
  },
  {
   "cell_type": "code",
   "execution_count": null,
   "metadata": {},
   "outputs": [],
   "source": [
    "between"
   ]
  },
  {
   "cell_type": "code",
   "execution_count": null,
   "metadata": {},
   "outputs": [],
   "source": [
    "nx.betweenness_centrality(GG)"
   ]
  },
  {
   "cell_type": "code",
   "execution_count": null,
   "metadata": {},
   "outputs": [],
   "source": [
    "nx.draw(GG, with_labels=True)"
   ]
  },
  {
   "cell_type": "markdown",
   "metadata": {},
   "source": [
    "Finally, let's add the normalized betweenness centralities as attributes to the\n",
    "nodes of the graph, and display the resulting table."
   ]
  },
  {
   "cell_type": "code",
   "execution_count": null,
   "metadata": {},
   "outputs": [],
   "source": [
    "nx.set_node_attributes(G, between, '$C_i^B$')"
   ]
  },
  {
   "cell_type": "code",
   "execution_count": null,
   "metadata": {},
   "outputs": [],
   "source": [
    "pd.DataFrame.from_dict(dict(G.nodes(data=True)), orient='index').sort_values('degree', ascending=False)"
   ]
  },
  {
   "cell_type": "code",
   "execution_count": null,
   "metadata": {},
   "outputs": [],
   "source": []
  }
 ],
 "metadata": {
  "kernelspec": {
   "display_name": "Python 3",
   "language": "python",
   "name": "python3"
  },
  "language_info": {
   "codemirror_mode": {
    "name": "ipython",
    "version": 3
   },
   "file_extension": ".py",
   "mimetype": "text/x-python",
   "name": "python",
   "nbconvert_exporter": "python",
   "pygments_lexer": "ipython3",
   "version": "3.7.1"
  }
 },
 "nbformat": 4,
 "nbformat_minor": 2
}
