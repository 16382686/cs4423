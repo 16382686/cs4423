{
 "cells": [
  {
   "cell_type": "markdown",
   "metadata": {},
   "source": [
    "### CS4423 - Networks\n",
    "Prof. Götz Pfeiffer<br />\n",
    "School of Mathematics, Statistics and Applied Mathematics<br />\n",
    "NUI Galway"
   ]
  },
  {
   "cell_type": "markdown",
   "metadata": {},
   "source": [
    "#### 6. Power Laws and Scale-Free Graphs\n",
    "\n",
    "# Lecture 21:  Power Laws"
   ]
  },
  {
   "cell_type": "code",
   "execution_count": null,
   "metadata": {},
   "outputs": [],
   "source": [
    "import numpy as np\n",
    "import pandas as pd\n",
    "import networkx as nx\n",
    "import matplotlib.pyplot as plt"
   ]
  },
  {
   "cell_type": "markdown",
   "metadata": {},
   "source": [
    "### Degree Distribution"
   ]
  },
  {
   "cell_type": "markdown",
   "metadata": {},
   "source": [
    "Recall **degree distribution**:\n",
    "\n",
    "The **degree distribution** of an undirected graph $G = (X, E)$\n",
    "is the function $k \\mapsto p_k:= n_k/n$,\n",
    "where $n = |X|$ and $n_k$ is the number of nodes of degree $k$\n",
    "(and thus $p_k$ is the probability that a random node $x \\in X$\n",
    "has degree $k$).\n",
    "\n",
    "In an ensemble of graphs of order $n$, one sets $p_k:= \\overline{n_k}/n$,\n",
    "where $\\overline{n_k}$ is the expected value of the random variable $n_k$\n",
    "over the ensemble of graphs.\n",
    "\n",
    "In this sense, the degree distribution in a random $G(n, p)$ graph is **binomial** :\n",
    "$$\n",
    "p_k = \\binom{n-1}{k}p^k (1-p)^{n-1-k},\n",
    "$$\n",
    "or, in the limit $n \\to \\infty$ and $p \\to 0$ with $np$ constant, it is a **Poisson distribution**:\n",
    "$$\n",
    "p_k = e^{-z} \\frac{z^k}{k!},\n",
    "$$\n",
    "where $z = np$."
   ]
  },
  {
   "cell_type": "markdown",
   "metadata": {},
   "source": [
    "A **power law** degree distribution is strikingly different:\n",
    "$$\n",
    "    p_k = c k^{-\\gamma},\n",
    "$$\n",
    "for certain constants $c$ and $\\gamma$.  (Typically $2 \\leq \\gamma \\leq 3$.)\n"
   ]
  },
  {
   "cell_type": "code",
   "execution_count": null,
   "metadata": {},
   "outputs": [],
   "source": [
    "def binomial(n, k):\n",
    "    prd, top, bot = 1, n, 1\n",
    "    for i in range(k):\n",
    "        prd = (prd * top) // bot\n",
    "        top, bot = top - 1, bot + 1\n",
    "    return prd"
   ]
  },
  {
   "cell_type": "code",
   "execution_count": null,
   "metadata": {},
   "outputs": [],
   "source": [
    "def b_dist(n, p, k):\n",
    "    return binomial(n, k) * p**k * (1-p)**(n-k)"
   ]
  },
  {
   "cell_type": "code",
   "execution_count": null,
   "metadata": {},
   "outputs": [],
   "source": [
    "from math import exp, factorial\n",
    "def p_dist(l, k):\n",
    "    return exp(-l) * l**k / factorial(k)"
   ]
  },
  {
   "cell_type": "code",
   "execution_count": null,
   "metadata": {},
   "outputs": [],
   "source": [
    "n, p = 1000, 0.015\n",
    "mm = 50\n",
    "l = p * (n-1)\n",
    "bb = [b_dist(n-1, p, k) for k in range(mm)]\n",
    "pp = [p_dist(l, k) for k in range(mm)]"
   ]
  },
  {
   "cell_type": "code",
   "execution_count": null,
   "metadata": {},
   "outputs": [],
   "source": [
    "df = pd.DataFrame()\n",
    "df['binom'] = bb\n",
    "df['poisson'] = pp\n",
    "df.plot()"
   ]
  },
  {
   "cell_type": "code",
   "execution_count": null,
   "metadata": {},
   "outputs": [],
   "source": [
    "def power_dist(c, gamma, k):\n",
    "    return c * k**(-gamma)"
   ]
  },
  {
   "cell_type": "code",
   "execution_count": null,
   "metadata": {},
   "outputs": [],
   "source": [
    "c = 0.15\n",
    "po1 = [power_dist(c, 1, k) for k in range(1,mm+1)]\n",
    "po2 = [power_dist(c, 2, k) for k in range(1,mm+1)]\n",
    "po3 = [power_dist(c, 3, k) for k in range(1,mm+1)]"
   ]
  },
  {
   "cell_type": "code",
   "execution_count": null,
   "metadata": {},
   "outputs": [],
   "source": [
    "df['power1'] = po1\n",
    "df['power2'] = po2\n",
    "df['power3'] = po3\n",
    "df.plot()"
   ]
  },
  {
   "cell_type": "code",
   "execution_count": null,
   "metadata": {},
   "outputs": [],
   "source": [
    "df.plot(loglog=True)"
   ]
  },
  {
   "cell_type": "code",
   "execution_count": null,
   "metadata": {},
   "outputs": [],
   "source": [
    "G = nx.read_pajek(\"c_elegans_undir.net\")\n",
    "G = nx.Graph(G)"
   ]
  },
  {
   "cell_type": "code",
   "execution_count": null,
   "metadata": {},
   "outputs": [],
   "source": [
    "n, m = G.number_of_nodes(), G.number_of_edges()"
   ]
  },
  {
   "cell_type": "markdown",
   "metadata": {},
   "source": [
    "A random graph `R` of same degree $n$ and size $m$."
   ]
  },
  {
   "cell_type": "code",
   "execution_count": null,
   "metadata": {},
   "outputs": [],
   "source": [
    "R = nx.gnm_random_graph(n, m)\n",
    "hist = nx.degree_histogram(R)\n",
    "hist = [(i, hist[i]) for i in range(len(hist)) if hist[i] > 0]\n",
    "df = pd.DataFrame(hist)\n",
    "df.plot.scatter(x = 0, y = 1)"
   ]
  },
  {
   "cell_type": "code",
   "execution_count": null,
   "metadata": {},
   "outputs": [],
   "source": [
    "pd.DataFrame(nx.degree_histogram(G)).plot.bar()"
   ]
  },
  {
   "cell_type": "code",
   "execution_count": null,
   "metadata": {},
   "outputs": [],
   "source": [
    "pd.DataFrame(nx.degree_histogram(R)).plot.bar()"
   ]
  },
  {
   "cell_type": "markdown",
   "metadata": {},
   "source": [
    "A $(n, d, p)$-Watts-Strogatz graph has $n$ nodes and  $dn$ edges"
   ]
  },
  {
   "cell_type": "code",
   "execution_count": null,
   "metadata": {},
   "outputs": [],
   "source": [
    "d = m//n\n",
    "p = 0.2\n",
    "W = nx.watts_strogatz_graph(n, 2*d, p)"
   ]
  },
  {
   "cell_type": "code",
   "execution_count": null,
   "metadata": {},
   "outputs": [],
   "source": [
    "W.number_of_nodes(), W.number_of_edges()"
   ]
  },
  {
   "cell_type": "code",
   "execution_count": null,
   "metadata": {},
   "outputs": [],
   "source": [
    "hist = nx.degree_histogram(W)\n",
    "hist = [(i, hist[i]) for i in range(len(hist)) if hist[i] > 0]\n",
    "df = pd.DataFrame(hist)\n",
    "df.plot.scatter(x = 0, y = 1)"
   ]
  },
  {
   "cell_type": "markdown",
   "metadata": {},
   "source": [
    "Does the degree histogram of the worm brain network\n",
    "follow a power law degree distribution?\n",
    "Here is a standard plot and a loglog plot of it ..."
   ]
  },
  {
   "cell_type": "code",
   "execution_count": null,
   "metadata": {},
   "outputs": [],
   "source": [
    "hist = nx.degree_histogram(G)\n",
    "hist = [(i, hist[i]) for i in range(len(hist)) if hist[i] > 0]\n",
    "df = pd.DataFrame(hist)\n",
    "df.plot.scatter(x = 0, y = 1)"
   ]
  },
  {
   "cell_type": "code",
   "execution_count": null,
   "metadata": {},
   "outputs": [],
   "source": [
    "df.plot.scatter(x = 0, y = 1, loglog=True)"
   ]
  }
 ],
 "metadata": {
  "kernelspec": {
   "display_name": "Python 3",
   "language": "python",
   "name": "python3"
  },
  "language_info": {
   "codemirror_mode": {
    "name": "ipython",
    "version": 3
   },
   "file_extension": ".py",
   "mimetype": "text/x-python",
   "name": "python",
   "nbconvert_exporter": "python",
   "pygments_lexer": "ipython3",
   "version": "3.7.1"
  }
 },
 "nbformat": 4,
 "nbformat_minor": 2
}
