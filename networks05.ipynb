{
 "cells": [
  {
   "cell_type": "markdown",
   "metadata": {},
   "source": [
    "### CS4423 - Networks\n",
    "Prof. Götz Pfeiffer<br />\n",
    "School of Mathematics, Statistics and Applied Mathematics<br />\n",
    "NUI Galway"
   ]
  },
  {
   "cell_type": "markdown",
   "metadata": {},
   "source": [
    "# Lecture 5: Paths, Trees and Breadth First Search"
   ]
  },
  {
   "cell_type": "markdown",
   "metadata": {},
   "source": [
    "Sequences of interconnected edges in a  graph are called **paths**,\n",
    "leading to notions of **connectivity** and **distance**.\n",
    "A **tree** is a particularly useful kind of connected graph,\n",
    "that is frequently used as a data structure in Computer Science.\n",
    "\n",
    "Many questions on networks concerning distance and connectivity can\n",
    "be answered by a versatile strategy called **Breadth First Search (BFS)**\n",
    "which effectively grows a **spanning tree** of the underlying graph.\n",
    "\n",
    "We will study **trees** and some classical algorithms for tree traversal.\n",
    "A network has the structure of a tree when it is of a hierarchical nature,\n",
    "like an [ancestry chart](https://en.wikipedia.org/wiki/Pedigree_chart)\n",
    "or a **river network**."
   ]
  },
  {
   "cell_type": "markdown",
   "metadata": {},
   "source": [
    "![A River Network](images/rivers.jpg)"
   ]
  },
  {
   "cell_type": "code",
   "execution_count": null,
   "metadata": {},
   "outputs": [],
   "source": [
    "import networkx as nx\n",
    "import numpy as np\n",
    "import pandas as pd\n",
    "import matplotlib.pyplot as plt "
   ]
  },
  {
   "cell_type": "markdown",
   "metadata": {},
   "source": [
    "## Paths\n",
    "\n",
    "The fundamental notion of *connectivity* in a network is closely\n",
    "related to the notion of *paths* in a graph."
   ]
  },
  {
   "cell_type": "markdown",
   "metadata": {},
   "source": [
    "<div class=\"alert alert-danger\">\n",
    "<b>Definitions.</b>  \n",
    "    <ul>\n",
    "        <li> \n",
    "            A <b>path</b> in a graph $G = (X, E)$ is a sequence of nodes, \n",
    "            where any pair of consecutive nodes in the sequence is (linked by)\n",
    "            an edge in $E$.\n",
    "        </li>\n",
    "        <li>\n",
    "            Such a path can have repeated nodes.  If it doesn't, the path is called a <b>simple path</b>.\n",
    "        </li>\n",
    "        <li>\n",
    "            The <b>length</b> of a path is the number of edges it involves\n",
    "            (that is the number of nodes minus $1$).\n",
    "        </li>\n",
    "        <li>\n",
    "            At each vertex $x \\in X$, there is a unique path of length $0$, \n",
    "            the <b>empty path</b>, consisting of vertex $x$ only.\n",
    "        </li>\n",
    "        <li>\n",
    "            A <b>cycle</b> is a path of length at least $3$ that is a simple path,\n",
    "            except for the first and the last node being the same.\n",
    "        </li>\n",
    "    </ul>\n",
    "</div>"
   ]
  },
  {
   "cell_type": "code",
   "execution_count": null,
   "metadata": {},
   "outputs": [],
   "source": [
    "nodes = 'ABCDEFGHIJKLM'"
   ]
  },
  {
   "cell_type": "code",
   "execution_count": null,
   "metadata": {},
   "outputs": [],
   "source": [
    "G = nx.Graph()"
   ]
  },
  {
   "cell_type": "code",
   "execution_count": null,
   "metadata": {},
   "outputs": [],
   "source": [
    "G.add_nodes_from(nodes)"
   ]
  },
  {
   "cell_type": "code",
   "execution_count": null,
   "metadata": {},
   "outputs": [],
   "source": [
    "list(G.nodes())"
   ]
  },
  {
   "cell_type": "code",
   "execution_count": null,
   "metadata": {},
   "outputs": [],
   "source": [
    "nodes = 'ABCDEFGHIJKLM'\n",
    "edges = [\n",
    "    'AB', 'CE', 'FG', 'FH', 'GI', 'GJ', 'HJ', 'HL', 'HM', \n",
    "    'IK', 'JK', 'KL', 'LM'\n",
    "]\n",
    "G = nx.Graph()\n",
    "G.add_nodes_from(nodes)\n",
    "G.add_edges_from(edges)"
   ]
  },
  {
   "cell_type": "code",
   "execution_count": null,
   "metadata": {},
   "outputs": [],
   "source": [
    "opts = { \"with_labels\": True, \"node_color\": 'y' }\n",
    "nx.draw(G, **opts)"
   ]
  },
  {
   "cell_type": "markdown",
   "metadata": {},
   "source": [
    "* $(F, G, I)$ is a path in the graph above, and $(H, J, K, L, H)$ is a cycle."
   ]
  },
  {
   "cell_type": "markdown",
   "metadata": {},
   "source": [
    "* A cycle in a simple graph provides, for any two nodes on that\n",
    "cycle, (at least) two different paths from one to the other.\n",
    "\n",
    "* Note that each edge (and node) of the 1970 Internet graph belongs to\n",
    "a cycle.  This makes the other way around the cycle an alternative\n",
    "route in case one of the edges should fail.\n",
    "\n",
    "* (In a *directed* network, paths are directed, too.\n",
    "A path from a vertex $x$ to a vertex $y$ is\n",
    "a sequence of vertices $x = x_0, x_1, \\dots, x_k = y$\n",
    "such that, for any $i = 1, \\dots, k$, there is\n",
    "an edge from $x_{i-1}$ to $x_i$ in the graph.)\n",
    "\n"
   ]
  },
  {
   "cell_type": "markdown",
   "metadata": {},
   "source": [
    "## Connected Components\n",
    "\n",
    "Communication and transportation networks tend to be connected, as\n",
    "this is their main purpose: to connect."
   ]
  },
  {
   "cell_type": "markdown",
   "metadata": {},
   "source": [
    "<div class=\"alert alert-danger\">\n",
    "<b>Definition.</b> \n",
    "    <ul>\n",
    "        <li>A simple graph is <b>connected</b> if, for\n",
    "every pair of nodes, there is a path between them.\n",
    "        </li>\n",
    "        <li>\n",
    "If a graph is not connected, it naturally breaks into pieces,\n",
    "its <b>connected components</b>.\n",
    "        </li>\n",
    "    </ul>\n",
    "</div>"
   ]
  },
  {
   "cell_type": "markdown",
   "metadata": {},
   "source": [
    "* The connected components of the graph below are the\n",
    "node sets $\\{A, B\\}$, $\\{C, E\\}$, $\\{D\\}$, and $\\{F,G,H,I,J,K,L,M\\}$.\n",
    "* Note that a component can consist of a single node only."
   ]
  },
  {
   "cell_type": "code",
   "execution_count": null,
   "metadata": {},
   "outputs": [],
   "source": [
    "list(nx.connected_components(G))"
   ]
  },
  {
   "cell_type": "markdown",
   "metadata": {},
   "source": [
    "**Note.** \n",
    "The relation 'there is a **path** from $x$ to $y$ on the node set $X$ of a\n",
    "graph is the **transitive closure** of the graph relation 'there is an\n",
    "**edge** between $x$ and $y$'.  It is \n",
    "\n",
    "* **reflexive** (as each node $x$ is\n",
    "connected to itself by the zero length path starting and ending at\n",
    "$x$), \n",
    "\n",
    "* **symmetric** (as a path from $x$ to $y$ can be used backwards as\n",
    "a path from $y$ to $x$), \n",
    "\n",
    "* and **transitive** (as a path from $x$ to $y$ and\n",
    "a path from $y$ to $z$ together make up a path from $x$ to $z$), \n",
    "\n",
    "hence\n",
    "an **equivalence relation**.\n",
    "The connected components of the graph are\n",
    "the parts (equivalence classes) of the corresponding **partition** of $X$."
   ]
  },
  {
   "cell_type": "markdown",
   "metadata": {},
   "source": [
    "##  Trees"
   ]
  },
  {
   "cell_type": "markdown",
   "metadata": {},
   "source": [
    "* A graph is called **acyclic** if it does not contain any cycles."
   ]
  },
  {
   "cell_type": "markdown",
   "metadata": {},
   "source": [
    "<div class=\"alert alert-danger\">\n",
    "    <ul>\n",
    "        <li>\n",
    "    A <b>tree</b> is a (simple) graph that is <b>connected</b> and <b>acyclic</b>.\n",
    "        </li>\n",
    "        <li>\n",
    "            A <b>forest</b> is a graph whose connected components are all trees.\n",
    "        </li>\n",
    "    </ul>         \n",
    "</div>\n",
    "\n",
    "In other words, between any two vertices in a tree there is **exactly one simple path**."
   ]
  },
  {
   "cell_type": "markdown",
   "metadata": {},
   "source": [
    "Trees can be characterized in many different ways.\n",
    "\n",
    "<div class=\"alert alert-warning\">\n",
    "\n",
    "**Theorem.**  Let $G = (X, E)$ be a (simple) graph of order $n = |X|$\n",
    "and size $m = |E|$.\n",
    "Then the following are equivalent:\n",
    "\n",
    "* $G$ is a tree (i.e. acyclic and connected);\n",
    "\n",
    "* $G$ is connected and $m = n-1$;\n",
    "\n",
    "* $G$ is a minimally connected graph (i.e., removing any edge will disconnect $G$);\n",
    "\n",
    "* $G$ is acyclic and $m = n-1$;\n",
    "\n",
    "* $G$ is a maximally acyclic graph (i.e., adding any edge will introduce a cycle in $G$).\n",
    "</div>"
   ]
  },
  {
   "cell_type": "markdown",
   "metadata": {},
   "source": [
    "## Ordered and Rooted Trees"
   ]
  },
  {
   "cell_type": "markdown",
   "metadata": {},
   "source": [
    "In some applications it is useful to specify additional attributes of a tree."
   ]
  },
  {
   "cell_type": "markdown",
   "metadata": {},
   "source": [
    "* A **rooted tree** is a tree in which one vertex has been designated the **root**.\n",
    "\n",
    "* In a rooted tree, except for the root itself, each vertex $x$ has a unique **parent**:\n",
    "  the unique neighbor that lies on the unique simple path from $x$ to the root.\n",
    "  \n",
    "* The **children** of vertex $x$ are all thie nodes it is the parent of.\n",
    "\n",
    "* In an **ordered rooted tree** an explicit order is specified on the children of each node,\n",
    "corresponding to an embedding ot the tree in the plane.\n"
   ]
  },
  {
   "cell_type": "markdown",
   "metadata": {},
   "source": [
    "Algebraic formulas, computer programs can conveniently be represented by ORTs known as [**syntax trees**]( https://en.wikipedia.org/wiki/Abstract_syntax_tree)."
   ]
  },
  {
   "cell_type": "markdown",
   "metadata": {},
   "source": [
    "## Random Trees"
   ]
  },
  {
   "cell_type": "markdown",
   "metadata": {},
   "source": [
    "<div class=\"alert alert-danger\">\n",
    "    <b>Theorem (Cayley's Formula).</b>\n",
    "    There are exactly $n^{n-2}$ distinct (labelled) trees on the $n$-vertex set \n",
    "    $X = \\{0, 1, 2, \\dots, n-1\\}$, if $n > 1$.\n",
    "</div>\n",
    "\n",
    "There is one (trivial) tree on $1$ vertex, but there is no tree on $0$ vertices.  Some values for $n > 1$:\n",
    "    "
   ]
  },
  {
   "cell_type": "code",
   "execution_count": null,
   "metadata": {},
   "outputs": [],
   "source": [
    "domain = range(2, 10)\n",
    "pd.DataFrame([n**(n-2) for n in domain], index=domain, columns=[\"\"], dtype=int).transpose()"
   ]
  },
  {
   "cell_type": "markdown",
   "metadata": {},
   "source": [
    "**Proof.** Each tree on $X = \\{0, 1, 2, \\dots, n-1\\}$ corresponds to a unique sequence of\n",
    "$n-2$ elements of $X$, its [**Prüfer Code**](https://en.wikipedia.org/wiki/Pr%C3%BCfer_sequence)."
   ]
  },
  {
   "cell_type": "code",
   "execution_count": null,
   "metadata": {},
   "outputs": [],
   "source": [
    "n = 20\n",
    "T = nx.random_tree(n)"
   ]
  },
  {
   "cell_type": "code",
   "execution_count": null,
   "metadata": {
    "slideshow": {
     "slide_type": "fragment"
    }
   },
   "outputs": [],
   "source": [
    "opts = { \"with_labels\": True, \"node_color\": 'y' }\n",
    "nx.draw(T, **opts)"
   ]
  },
  {
   "cell_type": "code",
   "execution_count": null,
   "metadata": {},
   "outputs": [],
   "source": [
    "degrees = [T.degree(x) for x in T]\n",
    "degrees"
   ]
  },
  {
   "cell_type": "markdown",
   "metadata": {},
   "source": [
    "How to determine the Prüfer code of a tree $T$ (destructively):\n",
    "\n",
    "* Find the smallest leaf $x$\n",
    "* Record the label $y$ of its unique neighbor\n",
    "* Remove $x$ (and the edge $x - y$) from $T$\n",
    "* Repeat until $T$ has only $2$ nodes left."
   ]
  },
  {
   "cell_type": "code",
   "execution_count": null,
   "metadata": {},
   "outputs": [],
   "source": [
    "def pruefer_node(tree):\n",
    "    for x in tree:\n",
    "        if tree.degree(x) == 1:\n",
    "            for y in tree[x]:\n",
    "                tree.remove_node(x)\n",
    "                return y"
   ]
  },
  {
   "cell_type": "code",
   "execution_count": null,
   "metadata": {},
   "outputs": [],
   "source": [
    "code = [pruefer_node(T) for k in range(n-2)]\n",
    "code"
   ]
  },
  {
   "cell_type": "markdown",
   "metadata": {},
   "source": [
    "This process destroys the tree `T` almost completely."
   ]
  },
  {
   "cell_type": "code",
   "execution_count": null,
   "metadata": {},
   "outputs": [],
   "source": [
    "print(T.nodes())\n",
    "print(T.edges())"
   ]
  },
  {
   "cell_type": "code",
   "execution_count": null,
   "metadata": {},
   "outputs": [],
   "source": [
    "def pruefer_seq(tree):\n",
    "    return [pruefer_node(tree) for k in range(tree.order() - 2)]"
   ]
  },
  {
   "cell_type": "markdown",
   "metadata": {},
   "source": [
    "Luckily, the tree can be reconstructed from its Prüfer code.\n",
    "\n",
    "**Fact:** The degree of node $x$ is $1$ plus the number of entries $x$ in the Prüfer sequence of $T$."
   ]
  },
  {
   "cell_type": "code",
   "execution_count": null,
   "metadata": {},
   "outputs": [],
   "source": [
    "ddd = [1 for k in range(n)]\n",
    "for k in code:\n",
    "    ddd[k] += 1\n",
    "ddd"
   ]
  },
  {
   "cell_type": "code",
   "execution_count": null,
   "metadata": {},
   "outputs": [],
   "source": [
    "degrees"
   ]
  },
  {
   "cell_type": "code",
   "execution_count": null,
   "metadata": {},
   "outputs": [],
   "source": [
    "ddd == degrees"
   ]
  },
  {
   "cell_type": "markdown",
   "metadata": {},
   "source": [
    "How to restore the tree from its Prüfer code:\n",
    "\n",
    "* Start with a graph with vertex set $X = \\{0, 1, 2, \\dots, n-1\\}$ (and no edges yet).\n",
    "* Compute the desired node degrees (defects) from the code.\n",
    "* For each node $y$ in the code find the smallest degree $1$ node $x$ and\n",
    "add the edge $x - y$, then decrease the defects of both $x$ and $y$ by $1$.\n",
    "* Finally, connect the remaining $2$ nodes of defect $1$ by an edge."
   ]
  },
  {
   "cell_type": "code",
   "execution_count": null,
   "metadata": {},
   "outputs": [],
   "source": [
    "T = nx.Graph()\n",
    "T.add_nodes_from(range(n))\n",
    "nx.draw(T, **opts)"
   ]
  },
  {
   "cell_type": "code",
   "execution_count": null,
   "metadata": {},
   "outputs": [],
   "source": [
    "# repeat n-2 times:\n",
    "print(code)\n",
    "y = code.pop(0)\n",
    "print(ddd)\n",
    "x = ddd.index(1)\n",
    "print(\"Added edge\", x, \"--\", y)\n",
    "T.add_edge(x, y)\n",
    "ddd[x] -= 1\n",
    "ddd[y] -= 1\n",
    "nx.draw(T, **opts)\n",
    "print(ddd)"
   ]
  },
  {
   "cell_type": "code",
   "execution_count": null,
   "metadata": {},
   "outputs": [],
   "source": [
    "e = [x for x in range(n) if ddd[x] == 1]\n",
    "T.add_edge(*e)\n",
    "print(e)\n",
    "nx.draw(T, **opts)"
   ]
  },
  {
   "cell_type": "code",
   "execution_count": null,
   "metadata": {},
   "outputs": [],
   "source": [
    "def tree_pruefer(code):\n",
    "\n",
    "    # initialize graph a defects\n",
    "    tree = nx.Graph()\n",
    "    tree.add_nodes_from(range(len(code)+2))\n",
    "    defects = [1 for x in tree]\n",
    "    for y in code:\n",
    "        defects[y] += 1\n",
    "        \n",
    "    # add edges\n",
    "    for y in code:\n",
    "        for x in tree:\n",
    "            if defects[x] == 1:\n",
    "                tree.add_edge(x, y)\n",
    "                for z in (x, y):\n",
    "                    defects[z] -= 1\n",
    "                break\n",
    "                \n",
    "    # final edge\n",
    "    e = [x for x in tree if defects[x] == 1]\n",
    "    tree.add_edge(*e)\n",
    "    \n",
    "    return tree"
   ]
  },
  {
   "cell_type": "markdown",
   "metadata": {},
   "source": [
    "* We can now construct a random tree on $n$ nodes from a random Prüfer code of length $n-2$."
   ]
  },
  {
   "cell_type": "code",
   "execution_count": null,
   "metadata": {},
   "outputs": [],
   "source": [
    "from random import choice"
   ]
  },
  {
   "cell_type": "code",
   "execution_count": null,
   "metadata": {},
   "outputs": [],
   "source": [
    "code = [choice(range(n)) for k in range(n-2)]\n",
    "code"
   ]
  },
  {
   "cell_type": "code",
   "execution_count": null,
   "metadata": {},
   "outputs": [],
   "source": [
    "tree = tree_pruefer(code)\n",
    "nx.draw(tree, **opts)"
   ]
  },
  {
   "cell_type": "code",
   "execution_count": null,
   "metadata": {},
   "outputs": [],
   "source": [
    "def random_tree(n):\n",
    "    code = [choice(range(n)) for k in range(n-2)]\n",
    "    return tree_pruefer(code)"
   ]
  },
  {
   "cell_type": "markdown",
   "metadata": {},
   "source": [
    "## Depth First Search"
   ]
  },
  {
   "cell_type": "markdown",
   "metadata": {},
   "source": [
    "[DFS](https://en.wikipedia.org/wiki/Depth-first_search)\n",
    "and [BFS]()"
   ]
  },
  {
   "cell_type": "markdown",
   "metadata": {},
   "source": [
    "* DFS($x$, visit):\n",
    "* &nbsp; $S \\gets (x)$\n",
    "* &nbsp; while $S \\neq \\emptyset$:\n",
    "* &nbsp; &nbsp; $y \\gets S$.pop() \n",
    "* &nbsp; &nbsp; visit($y$) \n",
    "* &nbsp; &nbsp; $S$.push($y$.next)"
   ]
  },
  {
   "cell_type": "code",
   "execution_count": null,
   "metadata": {},
   "outputs": [],
   "source": [
    "T = random_tree(20)\n",
    "nx.draw(T, **opts)"
   ]
  },
  {
   "cell_type": "code",
   "execution_count": null,
   "metadata": {},
   "outputs": [],
   "source": [
    "TT = T.copy()\n",
    "x = 0\n",
    "stack = [x]\n",
    "while len(stack) > 0:\n",
    "    y = stack.pop()\n",
    "    stack.extend(TT[y])\n",
    "    TT.remove_node(y)\n",
    "    print(y, stack)\n"
   ]
  },
  {
   "cell_type": "markdown",
   "metadata": {},
   "source": [
    "## Breadth First Search"
   ]
  },
  {
   "cell_type": "markdown",
   "metadata": {},
   "source": [
    "* BFS($x$, visit):\n",
    "* &nbsp; $Q \\gets (x)$\n",
    "* &nbsp; while $Q \\neq \\emptyset$:\n",
    "* &nbsp; &nbsp; $y \\gets Q$.pop() \n",
    "* &nbsp; &nbsp; visit($y$) \n",
    "* &nbsp; &nbsp; $Q$.push($y$.next)"
   ]
  },
  {
   "cell_type": "code",
   "execution_count": null,
   "metadata": {},
   "outputs": [],
   "source": [
    "TT = T.copy()\n",
    "x = 0\n",
    "queue = [x]\n",
    "while len(queue) > 0:\n",
    "    y = queue.pop(0)\n",
    "    queue.extend(TT[y])\n",
    "    TT.remove_node(y)\n",
    "    print(y, queue)"
   ]
  },
  {
   "cell_type": "code",
   "execution_count": null,
   "metadata": {},
   "outputs": [],
   "source": [
    "nx.draw(T, **opts)"
   ]
  },
  {
   "cell_type": "markdown",
   "metadata": {},
   "source": [
    "##  Attributes"
   ]
  },
  {
   "cell_type": "markdown",
   "metadata": {},
   "source": [
    "Attributes such as weights, labels, colors, or whatever `python` object you like, can be attached to graphs, nodes, or edges.\n",
    "\n",
    "Each graph, node, and edge can hold key/value attribute pairs in an associated attribute dictionary (the keys must be hashable). By default these are empty, but attributes can be added or changed using `add_edge`, `add_node` or direct manipulation of the attribute dictionaries named `G.graph`, `G.node` and `G.edge` for a graph G."
   ]
  },
  {
   "cell_type": "markdown",
   "metadata": {},
   "source": [
    "### Graph Attributes"
   ]
  },
  {
   "cell_type": "markdown",
   "metadata": {},
   "source": [
    "* Assign graph attributes when creating a new graph"
   ]
  },
  {
   "cell_type": "code",
   "execution_count": null,
   "metadata": {},
   "outputs": [],
   "source": [
    "G = nx.Graph(day=\"Wednesday\")\n",
    "G.graph"
   ]
  },
  {
   "cell_type": "markdown",
   "metadata": {},
   "source": [
    "* Or you can modify attributes later"
   ]
  },
  {
   "cell_type": "code",
   "execution_count": null,
   "metadata": {},
   "outputs": [],
   "source": [
    "G.graph['day'] = 'Monday'\n",
    "G.graph"
   ]
  },
  {
   "cell_type": "markdown",
   "metadata": {},
   "source": [
    "### Node Attributes"
   ]
  },
  {
   "cell_type": "markdown",
   "metadata": {},
   "source": [
    "Add node attributes using `add_node()`, `add_nodes_from()` or `G.node`"
   ]
  },
  {
   "cell_type": "code",
   "execution_count": null,
   "metadata": {},
   "outputs": [],
   "source": [
    "G.add_node(1, time='5pm')\n",
    "G.add_nodes_from([3, 5], time='2pm')"
   ]
  },
  {
   "cell_type": "code",
   "execution_count": null,
   "metadata": {},
   "outputs": [],
   "source": [
    "G.nodes[1]"
   ]
  },
  {
   "cell_type": "code",
   "execution_count": null,
   "metadata": {
    "slideshow": {
     "slide_type": "fragment"
    }
   },
   "outputs": [],
   "source": [
    "G.nodes[5]"
   ]
  },
  {
   "cell_type": "code",
   "execution_count": null,
   "metadata": {},
   "outputs": [],
   "source": [
    "G.nodes[1]['room'] = 714"
   ]
  },
  {
   "cell_type": "code",
   "execution_count": null,
   "metadata": {},
   "outputs": [],
   "source": [
    "list(G.nodes(data=True))"
   ]
  },
  {
   "cell_type": "code",
   "execution_count": null,
   "metadata": {},
   "outputs": [],
   "source": [
    "list(G.nodes.data())"
   ]
  },
  {
   "cell_type": "markdown",
   "metadata": {},
   "source": [
    "* Note that adding a node to `G.nodes` does not add it to the graph, use `G.add_node()` to add new nodes."
   ]
  },
  {
   "cell_type": "markdown",
   "metadata": {},
   "source": [
    "### Edge Attributes"
   ]
  },
  {
   "cell_type": "markdown",
   "metadata": {},
   "source": [
    "* Add edge attributes using `add_edge()`, `add_edges_from()` or subscript notation."
   ]
  },
  {
   "cell_type": "code",
   "execution_count": null,
   "metadata": {},
   "outputs": [],
   "source": [
    "G.add_edge(1, 2, weight=4.7)\n",
    "G.add_edges_from([(3, 4), (4, 5)], color='red')\n",
    "G.add_edges_from([(1, 2, {'color': 'blue'}), (2, 3, {'weight': 8})])\n",
    "G[1][2]['weight'] = 4.7"
   ]
  },
  {
   "cell_type": "code",
   "execution_count": null,
   "metadata": {},
   "outputs": [],
   "source": [
    "list(G.edges(data=True))"
   ]
  },
  {
   "cell_type": "code",
   "execution_count": null,
   "metadata": {
    "slideshow": {
     "slide_type": "fragment"
    }
   },
   "outputs": [],
   "source": [
    "G[1][2]"
   ]
  },
  {
   "cell_type": "markdown",
   "metadata": {},
   "source": [
    "## Adjacency Matrix\n",
    "\n",
    "A useful, algebraic, way to represent a graph is given by its __adjacency matrix__.  This is square matrix $A$, with rows and columns corresponding to the vertices of the graph, and an entry $1$ or $0$ in row $i$, column $j$, if\n",
    "the corresponding vertices are joined by an edge or not.\n",
    "The edge $AB$ in the example above this gives an entry $1$\n",
    "in row 1 (corresponding to vertex $A$) and column 2 (corresponding to\n",
    "vertex $B$.  And another entry $1$ in row 2 column 1.  The full adjacency matrix\n",
    "of the above graph is as follows.\n",
    "\n",
    "$A = \\left[\n",
    "\\begin{array}{cccc}\n",
    "0&1&0&0\\\\\n",
    "1&0&1&1\\\\\n",
    "0&1&0&1\\\\\n",
    "0&1&1&0\n",
    "\\end{array}\n",
    "\\right]$\n",
    "\n",
    "Note that $A = (a_{ij})$, like every adjacency matrix of a simple\n",
    "graph, is _symmetric_ (about the diagonal): $a_{ij} = a_{ji}$ for all\n",
    "$i, j$.  Also, all diagonal entries are $0$."
   ]
  },
  {
   "cell_type": "markdown",
   "metadata": {},
   "source": [
    "##  Directed Graphs, Multigraphs\n",
    "\n",
    "In this simple setting, two nodes are either connected or not (that\n",
    "is, there are no multiple links) and if node $x$ is connected to node\n",
    "$y$, then it is also true that $y$ is connected to $x$: the edges set\n",
    "up a _symmetric_ relationship between nodes.  If we want to express\n",
    "more complex real world relationships, we can make use of the more\n",
    "complex structure of _directed_ graphs, where edges have directions\n",
    "(drawn as arrows), possibly pointing back to the node they came from\n",
    "(forming loops, or self-edges), or even with multiple edges between\n",
    "the same two nodes.  A graph that has multiple edges between nodes is\n",
    "usually called a _multigraph_.\n",
    "\n",
    "![graph2]\n",
    "\n",
    "The adjacency matrix $A$ of a directed graph has an entry $a_{ij} = 1$\n",
    "whenever there is an edge from vertex $i$ to vertex $j$ (in that\n",
    "order!)  in the graph, and entries $0$ in all other positions.  For\n",
    "example,\n",
    "\n",
    "$A = \\left[\n",
    "\\begin{array}{cccc}\n",
    "0&1&0&0\\\\\n",
    "0&0&1&1\\\\\n",
    "0&0&0&1\\\\\n",
    "0&0&0&0\n",
    "\\end{array}\n",
    "\\right]$\n",
    "\n",
    "A simple graph can be regarded as a directed graph by reading every\n",
    "undirected edge as two directed edges between the end points,\n",
    "one going forward and one coming back.\n",
    "\n",
    "The adjacency matrix is capable of storing additional information,\n",
    "like weights or multiplicities of edges or loops, if that is required.\n",
    "We will soon see, how algebraic operations like matrix multiplication\n",
    "can be used to obtain information about a network from its adjacency matrix."
   ]
  },
  {
   "cell_type": "markdown",
   "metadata": {},
   "source": [
    "## Degree\n",
    "\n",
    "The **degree** of a vertex $x$ in a simple graph is the number of\n",
    "vertices it is connected to in the graph (it's number of **friends**).\n",
    "The degree can serve as a (simple) measure of the importance of a node\n",
    "in a network.  The **average degree** of the nodes in a network depends\n",
    "(only) on the number $n$ of nodes, and the number $m$ of edges in the\n",
    "network.\n",
    "\n",
    "Writing $k_i$ for the degree of vertex $x_i$, this number\n",
    "easily be determined from the adjacency matrix $A$ as the number of\n",
    "entries $1$ in row $i$ (or in column $i$):\n",
    "\n",
    "$k_i = \\sum_j a_{ij} = \\sum_j a_{ji}$.\n",
    "\n",
    "As every edge contributes to the degree of $2$ nodes, the sum of all degrees\n",
    "equals twice the number of edges:\n",
    "\n",
    "$\\sum_i k_i = 2m$,\n",
    "\n",
    "whence the _average degree_ is\n",
    "\n",
    "$c = \\frac1n \\sum_i k_i = \\frac{2m}{n}$."
   ]
  },
  {
   "cell_type": "markdown",
   "metadata": {},
   "source": [
    "## Graphs are Relations\n",
    "\n",
    "Recall the following definitions.\n",
    "\n",
    "<div class=\"note\" markdown=\"1\">\n",
    "**Definition.**  A __relation__ from a set $X$ to a set $Y$ is (nothing but) a subset\n",
    "$R$ of the Cartesian product $X \\times Y = \\\\{(x, y) :  x \\in X,\\, y \\in Y \\\\}$.\n",
    "We say that $x \\in X$ is __$R$-related__ to $y \\in Y$ whenever $(x, y) \\in R$\n",
    "and then write $x R y$.\n",
    "</div>\n",
    "\n",
    "The adjacency matrix of a relation $R \\subseteq X \\times Y$\n",
    "is the matrix with one row for each element $x \\in X$ and one column for each\n",
    "element $y \\in Y$, and it has an entry $1$ in row $x$ and column $y$\n",
    "if $x R y$, and entries $0$ otherwise.\n",
    "\n",
    "In many cases, $Y = X$.\n",
    "If $Y = X$, we say that $R$ is a relation __on__ $X$.  Such a relation\n",
    "can have one or more of the following properties.\n",
    "\n",
    "<div class=\"note\" markdown=\"1\">\n",
    "* (R) $R$ is __reflexive__ if $xRx$ for all $x \\in X$;\n",
    "* (S) $R$ is __symmetric__ if $xRy$ implies $yRx$ for all $x, y \\in X$;\n",
    "* (T) $R$ is __transitive__ if $xRy$ and $yRz$ imply that $xRz$ for all $x, y, z \\in X$;\n",
    "\n",
    "* (I) $R$ is __irreflexive__ if not $xRx$ for all $x \\in X$;\n",
    "* (A) $R$ is __antisymmetric__ if $xRy$ and $yRx$ imply that\n",
    "$x = y$ for all $x, y \\in X$.\n",
    "</div>\n",
    "\n",
    "A relation that is (RST), i.e., reflexive, symmetric and transitive, is\n",
    "called an __equivalence relation__, and it partitions the set $X$ into\n",
    "(mutually disjoint) parts, called __equivalence classes__.  A relation\n",
    "that is (RAT) is called a __partial order__ (such as the *divides*\n",
    "partial order on the natural numbers, or the *contains* relation\n",
    "between the subsets of a set).\n",
    "\n",
    "In view of these notions, we can now describe simple graphs and some\n",
    "of their properties\n",
    "as follows: A *simple* graph with node set $X$ is a *symmetric*,\n",
    "*irreflexive* relation on $X$.  A *directed* graph with node set $X$\n",
    "is *irreflexive* if it has *no loops*.  And it is *antisymmetric* if\n",
    "every edge has a *unique direction*.\n",
    "\n",
    "The article [Counting Transitive Relations] (in the *Journal of\n",
    "Integer Sequences*) contains a systematic account on the various types\n",
    "of relations that can be distinguished by these 5 properties, and a\n",
    "discussion of how to count them (up to equivalence) in case the\n",
    "underlying set $X$ is finite.\n",
    "\n",
    "## Composition\n",
    "\n",
    "Relations can be composed, like functions.  If $R$ is a relation\n",
    "from a set $X$ to a set $Y$, and if $S$ is a relation from $Y$ to a set $Z$,\n",
    "then the __composite relation__ $R \\circ S$ is the relation\n",
    "from $X$ to $Z$, defined by $x (R \\circ S) z$ if there is a\n",
    "an element $y \\in Y$ such that $x R y$ and $y S z$.\n",
    "\n",
    "The adjacency matrix of the composite relation $R \\circ S$\n",
    "is essentially the (matrix) product of the adjacency matrices\n",
    "of the individual relations $R$ and $S$.\n",
    "If $A = (a_{ij})$ is the adjacency matrix of $R$, and $B = (b_{jk})$ the adjacency matrix of $S$,\n",
    "then the $i,k$-entry of the product $AB$ is\n",
    "\n",
    "$$(AB)_{ik} = \\sum_{j} a_{ij} b_{jk}$$,\n",
    "\n",
    "which is exactly the _number_ of elements $y \\in Y$ such that $x_i R\n",
    "y$ and $y S z_k$.  All it needs for $x_i$ to be $(R \\circ S)$-related\n",
    "to $z_k$ is this number to be at least $1$.  Hence, replacing all\n",
    "nonzero entries in the product matrix $AB$ with $1$ yields the\n",
    "adjacency matrix of the composite $R \\circ S$.\n",
    "\n",
    "Let's write $A \\circ B$ for this matrix.\n",
    "\n",
    "[graph1]: /images/graph1.png\n",
    "[components]: /images/components.png\n",
    "[bipartite1]: /images/bipartite1.png\n",
    "[bipartite2]: /images/bipartite2.png\n",
    "[graph2]: /images/graph2.png\n",
    "[counting transitive relations]: https://cs.uwaterloo.ca/journals/JIS/VOL7/Pfeiffer/pfeiffer6.html"
   ]
  },
  {
   "cell_type": "markdown",
   "metadata": {},
   "source": [
    "##  Code Corner"
   ]
  },
  {
   "cell_type": "markdown",
   "metadata": {},
   "source": [
    "### `python`"
   ]
  },
  {
   "cell_type": "markdown",
   "metadata": {},
   "source": [
    "* `**opts`: `python` function calls take **positional** arguments and **keyword** arguments.  \n",
    "  The keyword arguments can be collected in a dictionary `opts` (with the keywords as keys).  \n",
    "  This dictionary can then be passed into the function call in its \"unwrapped\" form `**opts`."
   ]
  },
  {
   "cell_type": "markdown",
   "metadata": {},
   "source": [
    "* `list` [doc] turns its argument into a `python` list (if possible)."
   ]
  },
  {
   "cell_type": "code",
   "execution_count": null,
   "metadata": {},
   "outputs": [],
   "source": [
    "list(\"networks\")"
   ]
  },
  {
   "cell_type": "markdown",
   "metadata": {},
   "source": [
    "### `networkx`"
   ]
  },
  {
   "cell_type": "markdown",
   "metadata": {},
   "source": [
    "* the `read_adjlist` command [doc] constructs a graph from a text file in `adj` format."
   ]
  },
  {
   "cell_type": "markdown",
   "metadata": {},
   "source": [
    "* `G.nodes` [doc] returns the nodes of a graph `G` (as an iterator)."
   ]
  },
  {
   "cell_type": "markdown",
   "metadata": {},
   "source": [
    "* `G.edges` [doc] returns the edges of a graph `G` (as an iterator)."
   ]
  },
  {
   "cell_type": "markdown",
   "metadata": {},
   "source": [
    "## `matplotlib`"
   ]
  },
  {
   "cell_type": "markdown",
   "metadata": {},
   "source": [
    "* `subplot`: [[doc]](https://matplotlib.org/api/_as_gen/matplotlib.pyplot.subplot.html)"
   ]
  },
  {
   "cell_type": "code",
   "execution_count": null,
   "metadata": {},
   "outputs": [],
   "source": []
  }
 ],
 "metadata": {
  "kernelspec": {
   "display_name": "Python 3",
   "language": "python",
   "name": "python3"
  },
  "language_info": {
   "codemirror_mode": {
    "name": "ipython",
    "version": 3
   },
   "file_extension": ".py",
   "mimetype": "text/x-python",
   "name": "python",
   "nbconvert_exporter": "python",
   "pygments_lexer": "ipython3",
   "version": "3.7.6"
  }
 },
 "nbformat": 4,
 "nbformat_minor": 1
}
