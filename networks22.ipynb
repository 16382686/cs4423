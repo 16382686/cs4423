{
 "cells": [
  {
   "cell_type": "markdown",
   "metadata": {},
   "source": [
    "### CS4423 - Networks\n",
    "Prof. Götz Pfeiffer<br />\n",
    "School of Mathematics, Statistics and Applied Mathematics<br />\n",
    "NUI Galway"
   ]
  },
  {
   "cell_type": "markdown",
   "metadata": {},
   "source": [
    "#### 6. Power Laws and Scale-Free Graphs\n",
    "\n",
    "# Lecture 22:  Configuration Model"
   ]
  },
  {
   "cell_type": "code",
   "execution_count": null,
   "metadata": {},
   "outputs": [],
   "source": [
    "import numpy as np\n",
    "import pandas as pd\n",
    "import networkx as nx\n",
    "import matplotlib.pyplot as plt"
   ]
  },
  {
   "cell_type": "markdown",
   "metadata": {},
   "source": [
    "### The Configuration Model"
   ]
  },
  {
   "cell_type": "markdown",
   "metadata": {},
   "source": [
    "In principle, random graph can be generated in such \n",
    "a way that they have a prescribed degree sequence.\n",
    "\n",
    "**Idea:**  Choose numbers $d_i$, $i \\in X$,\n",
    "so that $\\sum d_i = 2m$ is an even number.\n",
    "\n",
    "Then regard each degree $d_i$ as $d_i$ **stubs** (half-edges) attached to node $i$.\n",
    "\n",
    "Compute a random **matching** of pairs of stubs\n",
    "and build a graph on $X$ with those (full) edges."
   ]
  },
  {
   "cell_type": "markdown",
   "metadata": {},
   "source": [
    "**Example**.  Suppose that $X = \\{1, 2, 3, 4, 5\\}$\n",
    "and that we want those nodes to have degrees \n",
    "$d_1 = 3$, $d_2 = 2$ and $d_3 = d_4 = d_5 = 1$.\n",
    "\n",
    "This gives a list of stubs $(1, 1, 1, 2, 2, 3, 4, 5)$\n",
    "where each node $i$ appears as often as its degree $d_i$\n",
    "requires.\n",
    "\n",
    "A random shuffle of that list is\n",
    "$(1, 3, 4, 1, 2, 1, 5, 2)$.\n",
    "\n",
    "One way to construct a matching is to simply cut this list in half\n",
    "and match entries of the first half with corresponsing entries in the second half.\n",
    "$$\n",
    "\\begin{array}{cccc}\n",
    "1 & 3 & 4 & 1\\\\\n",
    "2 & 1 & 5 & 2\n",
    "\\end{array}\n",
    "$$\n",
    "Note that $\\sum d_i = 8 = 2m$ yields $m = 4$ edges ..."
   ]
  },
  {
   "cell_type": "markdown",
   "metadata": {},
   "source": [
    "### A Quick Implementation"
   ]
  },
  {
   "cell_type": "code",
   "execution_count": null,
   "metadata": {},
   "outputs": [],
   "source": [
    "degrees = [3, 2, 1, 1, 1]"
   ]
  },
  {
   "cell_type": "markdown",
   "metadata": {},
   "source": [
    "Recall that, in Python, list addresses start at $0$,\n",
    "and `networkx` default node names do likewise.\n",
    "Let's adopt this convention here.\n",
    "\n",
    "Now entry $3$ in position $0$ of the list `degrees` stands for\n",
    "$3$ entries $0$ in the list of stubs, to be constructed.\n",
    "Entry $2$ in position $1$ stands for $2$ entries $1$ in\n",
    "the list of stubs and so on.\n",
    "In general, entry $d$ in position $i$ stands for\n",
    "$d$ entries $i$ in the list of stubs.\n",
    "\n",
    "Python's list arithmetic (using `m * a` for `m` *repetitions* of a list `a`\n",
    "and `a + b` for the *concatenation* of lists `a` and `b`)\n",
    "can be used to quickly convert a degree sequence into a list of stubs as follows."
   ]
  },
  {
   "cell_type": "code",
   "execution_count": null,
   "metadata": {},
   "outputs": [],
   "source": [
    "stubs = [degrees[i] * [i] for i in range(len(degrees))]\n",
    "stubs"
   ]
  },
  {
   "cell_type": "code",
   "execution_count": null,
   "metadata": {},
   "outputs": [],
   "source": [
    "stubs = sum(stubs, [])\n",
    "stubs"
   ]
  },
  {
   "cell_type": "markdown",
   "metadata": {},
   "source": [
    "Let's call this process the **stubs list** of a list of integers and wrap it\n",
    "into a python function"
   ]
  },
  {
   "cell_type": "code",
   "execution_count": null,
   "metadata": {},
   "outputs": [],
   "source": [
    "def stubs_list(a):\n",
    "    return sum([a[i] * [i] for i in range(len(a))], [])"
   ]
  },
  {
   "cell_type": "code",
   "execution_count": null,
   "metadata": {},
   "outputs": [],
   "source": [
    "stubs_list(degrees)"
   ]
  },
  {
   "cell_type": "markdown",
   "metadata": {},
   "source": [
    "How to randomly shuffle this list?\n",
    "The wikipedia page on [random permutations](https://en.wikipedia.org/wiki/Random_permutation#Knuth_shuffles)\n",
    "recommends a simple algorithm for shuffling the elements of a list `a` in place."
   ]
  },
  {
   "cell_type": "code",
   "execution_count": null,
   "metadata": {},
   "outputs": [],
   "source": [
    "from random import randint\n",
    "def knuth_shuffle(a):\n",
    "    l = len(a)-1\n",
    "    for k in range(l):\n",
    "        j = randint(k, l)\n",
    "        a[j], a[k] = a[k], a[j]"
   ]
  },
  {
   "cell_type": "code",
   "execution_count": null,
   "metadata": {},
   "outputs": [],
   "source": [
    "a = [1,2,3]\n",
    "knuth_shuffle(a)\n",
    "a"
   ]
  },
  {
   "cell_type": "markdown",
   "metadata": {},
   "source": [
    "Let's test whether this shuffle produces uniformly random outcomes ..."
   ]
  },
  {
   "cell_type": "code",
   "execution_count": null,
   "metadata": {},
   "outputs": [],
   "source": [
    "shuffles = {}\n",
    "for i in range(1000):\n",
    "    a = [1,2,3]\n",
    "    knuth_shuffle(a)\n",
    "    key = tuple(a)\n",
    "    shuffles[key] = shuffles.get(key, 0) + 1\n",
    "    \n",
    "print(shuffles)"
   ]
  },
  {
   "cell_type": "markdown",
   "metadata": {},
   "source": [
    "But python's `random` module already contains\n",
    "a function `shuffle` which does exactly this."
   ]
  },
  {
   "cell_type": "code",
   "execution_count": null,
   "metadata": {},
   "outputs": [],
   "source": [
    "from random import shuffle"
   ]
  },
  {
   "cell_type": "code",
   "execution_count": null,
   "metadata": {},
   "outputs": [],
   "source": [
    "a = [1,2,3]\n",
    "shuffle(a)\n",
    "a"
   ]
  },
  {
   "cell_type": "markdown",
   "metadata": {},
   "source": [
    "Let's test whether this shuffle produces uniformly random outcomes ..."
   ]
  },
  {
   "cell_type": "code",
   "execution_count": null,
   "metadata": {},
   "outputs": [],
   "source": [
    "shuffles = {}\n",
    "for i in range(1000):\n",
    "    a = [1,2,3]\n",
    "    shuffle(a)\n",
    "    key = tuple(a)\n",
    "    shuffles[key] = shuffles.get(key, 0) + 1\n",
    "    \n",
    "print(shuffles)"
   ]
  },
  {
   "cell_type": "markdown",
   "metadata": {},
   "source": [
    "So we shuffle the stubs ..."
   ]
  },
  {
   "cell_type": "code",
   "execution_count": null,
   "metadata": {},
   "outputs": [],
   "source": [
    "shuffle(stubs)\n",
    "stubs"
   ]
  },
  {
   "cell_type": "markdown",
   "metadata": {},
   "source": [
    "Then we match pairs, by cutting the list of\n",
    "stubs into halves and transposing the resulting array\n",
    "of 2 rows ..."
   ]
  },
  {
   "cell_type": "code",
   "execution_count": null,
   "metadata": {},
   "outputs": [],
   "source": [
    "m = len(stubs) // 2"
   ]
  },
  {
   "cell_type": "code",
   "execution_count": null,
   "metadata": {},
   "outputs": [],
   "source": [
    "edges = [stubs[:m], stubs[m:]]\n",
    "edges"
   ]
  },
  {
   "cell_type": "code",
   "execution_count": null,
   "metadata": {},
   "outputs": [],
   "source": [
    "edges = list(zip(*edges))\n",
    "edges"
   ]
  },
  {
   "cell_type": "code",
   "execution_count": null,
   "metadata": {},
   "outputs": [],
   "source": [
    "G = nx.Graph(edges)"
   ]
  },
  {
   "cell_type": "code",
   "execution_count": null,
   "metadata": {},
   "outputs": [],
   "source": [
    "G.number_of_edges()"
   ]
  },
  {
   "cell_type": "code",
   "execution_count": null,
   "metadata": {},
   "outputs": [],
   "source": [
    "nx.draw(G, with_labels=True, node_color='y')"
   ]
  },
  {
   "cell_type": "code",
   "execution_count": null,
   "metadata": {},
   "outputs": [],
   "source": [
    "G.edges()"
   ]
  },
  {
   "cell_type": "markdown",
   "metadata": {},
   "source": [
    "All in all, a configuration model can be built as follows."
   ]
  },
  {
   "cell_type": "code",
   "execution_count": null,
   "metadata": {},
   "outputs": [],
   "source": [
    "def configuration(degrees):\n",
    "    m = sum(degrees) // 2  # should check if sum(degs) is even ...\n",
    "    stubs = stubs_list(degrees)\n",
    "    shuffle(stubs)\n",
    "    edges = list(zip(stubs[:m], stubs[m:]))\n",
    "    return nx.Graph(edges)"
   ]
  },
  {
   "cell_type": "code",
   "execution_count": null,
   "metadata": {},
   "outputs": [],
   "source": [
    "G = configuration([3,2,1,1,1])\n",
    "nx.draw(G, with_labels=True, node_color='y')\n",
    "print(G.edges())"
   ]
  },
  {
   "cell_type": "markdown",
   "metadata": {},
   "source": [
    "Now create a power degree distribution ... and generate a graph. Use $\\gamma = 2$,\n",
    "since I [know](https://en.wikipedia.org/wiki/Riemann_zeta_function) that $\\zeta(2) = \\pi^2/6$ ..."
   ]
  },
  {
   "cell_type": "code",
   "execution_count": null,
   "metadata": {},
   "outputs": [],
   "source": [
    "from math import pi\n",
    "gamma = 2\n",
    "c = 6/pi/pi\n",
    "p = [0] + [c * k**(-gamma) for k in range(1,35)]\n",
    "print(p, sum(p))"
   ]
  },
  {
   "cell_type": "markdown",
   "metadata": {},
   "source": [
    "Note how $p_0 = 0$ was explicitly prepended to the list `p`. Turn this now into a degree histogram on, say, $n = 50$ nodes."
   ]
  },
  {
   "cell_type": "code",
   "execution_count": null,
   "metadata": {},
   "outputs": [],
   "source": [
    "d = [int(50 * x) for x in p]\n",
    "print(d)\n",
    "print(sum(d))"
   ]
  },
  {
   "cell_type": "markdown",
   "metadata": {},
   "source": [
    "Then recover the degree sequence from the histogram.\n",
    "Incidently, this works exactly as the transformation of the degree sequence above into a list of stubs (why?).\n"
   ]
  },
  {
   "cell_type": "code",
   "execution_count": null,
   "metadata": {},
   "outputs": [],
   "source": [
    "print(stubs_list(d))"
   ]
  },
  {
   "cell_type": "code",
   "execution_count": null,
   "metadata": {},
   "outputs": [],
   "source": [
    "G = configuration(stubs_list(d))"
   ]
  },
  {
   "cell_type": "code",
   "execution_count": null,
   "metadata": {},
   "outputs": [],
   "source": [
    "G.edges()"
   ]
  },
  {
   "cell_type": "code",
   "execution_count": null,
   "metadata": {},
   "outputs": [],
   "source": [
    "nx.draw(G, with_labels=True, node_color='y')"
   ]
  },
  {
   "cell_type": "code",
   "execution_count": null,
   "metadata": {},
   "outputs": [],
   "source": [
    "nx.degree_histogram(G)"
   ]
  },
  {
   "cell_type": "markdown",
   "metadata": {},
   "source": [
    "Try again ... This time with $\\gamma= 2.5$, an explict value of $c = 2.5$, and $p[1]$\n",
    "corrected so that $\\sum p_k = 1$."
   ]
  },
  {
   "cell_type": "code",
   "execution_count": null,
   "metadata": {},
   "outputs": [],
   "source": [
    "gamma = 2.5\n",
    "c = 2.5\n",
    "p = [0] + [c * k**(-gamma) for k in range(1,35)]\n",
    "p[1] = p[1] - (sum(p) - 1)\n",
    "print(p)\n",
    "print(sum(p))"
   ]
  },
  {
   "cell_type": "markdown",
   "metadata": {},
   "source": [
    "Lift the degree numbers by $1/2$ so that they are rounded, rather than cut off when converted into integers.\n",
    "Also reduce number of nodes to $25$ for better drawings ..."
   ]
  },
  {
   "cell_type": "code",
   "execution_count": null,
   "metadata": {},
   "outputs": [],
   "source": [
    "d = [int(25 * x + 0.5) for x in p]\n",
    "print(d)\n",
    "print(sum(d))"
   ]
  },
  {
   "cell_type": "code",
   "execution_count": null,
   "metadata": {},
   "outputs": [],
   "source": [
    "print(stubs_list(d))"
   ]
  },
  {
   "cell_type": "code",
   "execution_count": null,
   "metadata": {},
   "outputs": [],
   "source": [
    "G = configuration(stubs_list(d))"
   ]
  },
  {
   "cell_type": "code",
   "execution_count": null,
   "metadata": {},
   "outputs": [],
   "source": [
    "G.edges()"
   ]
  },
  {
   "cell_type": "code",
   "execution_count": null,
   "metadata": {
    "scrolled": true
   },
   "outputs": [],
   "source": [
    "nx.draw(G, with_labels=True, node_color='y')"
   ]
  },
  {
   "cell_type": "code",
   "execution_count": null,
   "metadata": {},
   "outputs": [],
   "source": [
    "nx.degree_histogram(G)"
   ]
  },
  {
   "cell_type": "markdown",
   "metadata": {},
   "source": [
    "In `networkx`, configuration models can be generated with the function `nx.configuration_model`."
   ]
  },
  {
   "cell_type": "code",
   "execution_count": null,
   "metadata": {},
   "outputs": [],
   "source": [
    "G = nx.configuration_model(degrees)\n",
    "nx.draw(G, with_labels=True, node_color='m')"
   ]
  },
  {
   "cell_type": "code",
   "execution_count": null,
   "metadata": {},
   "outputs": [],
   "source": []
  }
 ],
 "metadata": {
  "kernelspec": {
   "display_name": "Python 3",
   "language": "python",
   "name": "python3"
  },
  "language_info": {
   "codemirror_mode": {
    "name": "ipython",
    "version": 3
   },
   "file_extension": ".py",
   "mimetype": "text/x-python",
   "name": "python",
   "nbconvert_exporter": "python",
   "pygments_lexer": "ipython3",
   "version": "3.7.1"
  }
 },
 "nbformat": 4,
 "nbformat_minor": 2
}
