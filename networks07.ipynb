{
 "cells": [
  {
   "cell_type": "markdown",
   "metadata": {},
   "source": [
    "### CS4423 - Networks\n",
    "Prof. Götz Pfeiffer<br />\n",
    "School of Mathematics, Statistics and Applied Mathematics<br />\n",
    "NUI Galway"
   ]
  },
  {
   "cell_type": "markdown",
   "metadata": {},
   "source": [
    "#### 2. Centrality Measures\n",
    "\n",
    "# Lecture 7: Degree and Eigenvector Centrality"
   ]
  },
  {
   "cell_type": "markdown",
   "metadata": {},
   "source": [
    "Key actors in a social network can be identified through centrality measures. The question of what it means to be central has a number of different answers. Accordingly, in the context of social network analysis, a variety of different centrality measures have been developed.\n",
    "\n",
    "Here we introduce, in addition to the **degree centrality** we have already seen, three more further measures:\n",
    "\n",
    "* **eigenvector centrality**, defined in terms of properties of the network’s adjacency matrix,\n",
    "\n",
    "* **closeness centrality**, defined in terms of a nodes distance to other nodes on the network,\n",
    "\n",
    "* **betweenness centrality**, defined in terms of shortest paths.\n",
    "\n",
    "\n",
    "Start by importing the necessary\n",
    "python libraries into this jupyter notebook.  (Actually, networkx works with a number of useful\n",
    "python libraries, some of which are loaded automatically, while others have to be `import`ed explicitly,\n",
    "depending on the circumstances.  In the following, we will also make explicit use of Pandas and Numpy.)"
   ]
  },
  {
   "cell_type": "code",
   "execution_count": null,
   "metadata": {},
   "outputs": [],
   "source": [
    "import networkx as nx\n",
    "import matplotlib.pyplot as plt"
   ]
  },
  {
   "cell_type": "markdown",
   "metadata": {},
   "source": [
    "### Degree Centrality\n",
    "\n",
    "The **degree** of a node is its number of neighbors in the graph.\n",
    "This number can serve as a simple measure of centrality."
   ]
  },
  {
   "cell_type": "markdown",
   "metadata": {},
   "source": [
    "Consider the following network of *florentine families*, \n",
    "linked by *marital ties*."
   ]
  },
  {
   "cell_type": "code",
   "execution_count": null,
   "metadata": {},
   "outputs": [],
   "source": [
    "G = nx.generators.florentine_families_graph()\n",
    "list(G.nodes())"
   ]
  },
  {
   "cell_type": "markdown",
   "metadata": {},
   "source": [
    "Unfortunately, this version of the graph misses the isolated node `'Pucci'` of the original graph.  Let's just add it and draw the resulting graph."
   ]
  },
  {
   "cell_type": "code",
   "execution_count": null,
   "metadata": {},
   "outputs": [],
   "source": [
    "cc = list(G.nodes())\n",
    "G.add_node('Pucci')"
   ]
  },
  {
   "cell_type": "code",
   "execution_count": null,
   "metadata": {},
   "outputs": [],
   "source": [
    "nx.draw(G, with_labels=True)"
   ]
  },
  {
   "cell_type": "markdown",
   "metadata": {},
   "source": [
    "The large connected component can be drawn as a subgraph."
   ]
  },
  {
   "cell_type": "code",
   "execution_count": null,
   "metadata": {},
   "outputs": [],
   "source": [
    "nx.draw(G.subgraph(cc), with_labels=True)"
   ]
  },
  {
   "cell_type": "markdown",
   "metadata": {},
   "source": [
    "Known indicators of the importance of these families are their *wealth*, and the number of seats\n",
    "on the city council (*priorates*).  These measures can be compared with the node degree in the graph 'G'. "
   ]
  },
  {
   "cell_type": "code",
   "execution_count": null,
   "metadata": {},
   "outputs": [],
   "source": [
    "wealth = {\n",
    "  'Acciaiuoli': 10, 'Albizzi': 36, 'Barbadori': 55, 'Bischeri': 44,\n",
    "  'Castellani': 20, 'Ginori': 32, 'Guadagni': 8, 'Lamberteschi': 42,\n",
    "  'Medici': 103, 'Pazzi': 48, 'Peruzzi': 49, 'Pucci': 3,\n",
    "  'Ridolfi': 27, 'Salviati': 10, 'Strozzi': 146, 'Tornabuoni': 48,\n",
    "}\n",
    "\n",
    "priorates = {\n",
    "  'Acciaiuoli': 53, 'Albizzi': 65, 'Barbadori': 'n/a', 'Bischeri': 12,\n",
    "  'Castellani': 22, 'Ginori': 'n/a', 'Guadagni': 21, 'Lamberteschi': 0,\n",
    "  'Medici': 53, 'Pazzi': 'n/a', 'Peruzzi': 42, 'Pucci': 0,\n",
    "  'Ridolfi': 38, 'Salviati': 35, 'Strozzi': 74, 'Tornabuoni': 'n/a',\n",
    "}"
   ]
  },
  {
   "cell_type": "code",
   "execution_count": null,
   "metadata": {},
   "outputs": [],
   "source": [
    "nx.set_node_attributes(G, wealth, 'wealth')\n",
    "nx.set_node_attributes(G, priorates, 'priorates')\n",
    "nx.set_node_attributes(G, dict(G.degree()), 'degree')"
   ]
  },
  {
   "cell_type": "code",
   "execution_count": null,
   "metadata": {},
   "outputs": [],
   "source": [
    "dict(G.degree())"
   ]
  },
  {
   "cell_type": "code",
   "execution_count": null,
   "metadata": {},
   "outputs": [],
   "source": [
    "G.nodes['Pazzi']"
   ]
  },
  {
   "cell_type": "code",
   "execution_count": null,
   "metadata": {},
   "outputs": [],
   "source": [
    "G.nodes(data=True)"
   ]
  },
  {
   "cell_type": "code",
   "execution_count": null,
   "metadata": {},
   "outputs": [],
   "source": [
    "import pandas as pd"
   ]
  },
  {
   "cell_type": "code",
   "execution_count": null,
   "metadata": {},
   "outputs": [],
   "source": [
    "pd.DataFrame.from_dict(dict(G.nodes(data=True)), orient='index').sort_values('degree', ascending=False)"
   ]
  },
  {
   "cell_type": "markdown",
   "metadata": {},
   "source": [
    "<div class=\"alert\">\n",
    "    \n",
    "<b>Definition (Degree Centrality).</b>\n",
    "In a (simple) graph $G = (X, E)$, with $X = \\{1, \\dots, n\\}$ and \n",
    "adjacency matrix $A = (a_{ij})$,\n",
    "the <b>degree centrality</b> $c_i^D$ of node $i \\in X$ is defined as\n",
    "$$\n",
    "c_i^D = k_i = \\sum_j a_{ij},\n",
    "$$\n",
    "where $k_i$ is the degree of node $i$.<br />    \n",
    "The <b>normalized degree centrality</b> $C_i^D$ of node $i \\in X$ is defined as\n",
    "$$\n",
    "C_i^D = \\frac{k_i}{n-1} = \\frac{c_i^D}{n-1},\n",
    "$$\n",
    "the degree centrality of node $i$ divided by its potential number of\n",
    "neighbors in the graph.\n",
    "</div>"
   ]
  },
  {
   "cell_type": "markdown",
   "metadata": {},
   "source": [
    "In a directed graph one distinguishes between the in-degree and the out-degree\n",
    "of a node and defines the in-degree centrality and the out-degree centrality accordingly."
   ]
  },
  {
   "cell_type": "code",
   "execution_count": null,
   "metadata": {},
   "outputs": [],
   "source": [
    "nx.set_node_attributes(G, nx.degree_centrality(G), '$C_i^D$')"
   ]
  },
  {
   "cell_type": "code",
   "execution_count": null,
   "metadata": {},
   "outputs": [],
   "source": [
    "pd.DataFrame.from_dict(dict(G.nodes(data=True)), orient='index').sort_values('degree', ascending=False)"
   ]
  },
  {
   "cell_type": "markdown",
   "metadata": {},
   "source": [
    "### Eigenvectors and Centrality\n",
    "\n",
    "Recall that a ($n$-dimensional) vector $v$ is called an **eigenvector**\n",
    "of a square ($n \\times n$-)matrix $A$, if \n",
    "$$\n",
    " A v = \\lambda v\n",
    "$$\n",
    "for some scalar (number) $\\lambda$ (which is then called an **eigenvalue** of the matrix $A$)"
   ]
  },
  {
   "cell_type": "markdown",
   "metadata": {},
   "source": [
    "The basic idea of eigenvector centrality is that a node's ranking in a network should\n",
    "relate to the rankings of the nodes it is connected to.  More specifically, up to some scalar $\\lambda$,\n",
    "the centrality $c_i^E$ of node $i$ should be equal to the sum if the centralities $c_j^E$ of its \n",
    "neighbor nodes $j$.  In terms of the adjacency matrix $A = (a_{ij})$, this relationship is expressed as\n",
    "$$\n",
    "\\lambda c_i^E = \\sum_j a_{ij} c_j^E,\n",
    "$$\n",
    "which in turn, in matrix language is\n",
    "$$\n",
    "\\lambda c^E = A c_E,\n",
    "$$\n",
    "for the vector $c^E = (c_i^E)$, which then is an eigenvector of $A$."
   ]
  },
  {
   "cell_type": "markdown",
   "metadata": {},
   "source": [
    "How to find $c^E$? Or $\\lambda$?  Linear Algebra: \n",
    "1. Find the *characteristic polynomial* $p_A(x)$ of $A$\n",
    "(as *determinant* of the matrix $x I - A$, where $I$ is the $n \\times n$-identity matrix);\n",
    "2. Find the *roots* $\\lambda$ of $p_A(x)$ \n",
    "(i.e. scalars $\\lambda$ such that $p_A(\\lambda) = 0$;\n",
    "3. Find a *nontrivial solution* of the linear system\n",
    "$(\\lambda I - A)c = 0$ (where $0$ stands for an all-$0$ column vector,\n",
    "and $c = (c_1, \\dots, c_n)$ is a column of *unknowns*)."
   ]
  },
  {
   "cell_type": "code",
   "execution_count": null,
   "metadata": {},
   "outputs": [],
   "source": [
    "A = nx.adjacency_matrix(G)"
   ]
  },
  {
   "cell_type": "code",
   "execution_count": null,
   "metadata": {},
   "outputs": [],
   "source": [
    "import numpy as np\n",
    "B = np.array([[2,2],[3,1]])\n",
    "poly = np.poly(B)\n",
    "l, v = np.linalg.eig(B)\n",
    "vv = v.transpose()\n",
    "print(poly)\n",
    "print(l); print (vv); print(vv[0])\n",
    "print(B*vv[0], l[0]*vv[0])"
   ]
  },
  {
   "cell_type": "code",
   "execution_count": null,
   "metadata": {},
   "outputs": [],
   "source": [
    "print(np.matmul(B, vv[0]))"
   ]
  },
  {
   "cell_type": "code",
   "execution_count": null,
   "metadata": {},
   "outputs": [],
   "source": [
    "print(A.todense())"
   ]
  },
  {
   "cell_type": "code",
   "execution_count": null,
   "metadata": {},
   "outputs": [],
   "source": [
    "np.poly(A.todense())"
   ]
  },
  {
   "cell_type": "markdown",
   "metadata": {},
   "source": [
    "Numerical Linerar Algebra:  forget algebraic precision, use the **Power method**:\n",
    "\n",
    "1. start with $u = (1, 1, \\dots, 1)$, say;\n",
    "2. keep replacing $u \\gets Au$ until $u/\\|u\\|$ becomes stable ...\n",
    "\n",
    "If $A$ has a *dominant* eigenvalue $\\lambda_0$ then $u$ will *converge*\n",
    "to an eigenvector for the eigenvalue $\\lambda_0$."
   ]
  },
  {
   "cell_type": "code",
   "execution_count": null,
   "metadata": {},
   "outputs": [],
   "source": [
    "u = [1 for x in A]\n",
    "print(u)\n",
    "print(u/np.linalg.norm(u))"
   ]
  },
  {
   "cell_type": "code",
   "execution_count": null,
   "metadata": {},
   "outputs": [],
   "source": [
    "v = A*u\n",
    "print(v)\n",
    "print(v/np.linalg.norm(v))"
   ]
  },
  {
   "cell_type": "code",
   "execution_count": null,
   "metadata": {},
   "outputs": [],
   "source": [
    "for i in range(40):\n",
    "    u = A * u\n",
    "    u = u/np.linalg.norm(u)"
   ]
  },
  {
   "cell_type": "code",
   "execution_count": null,
   "metadata": {},
   "outputs": [],
   "source": [
    "v = A *u\n",
    "l = v[2]/u[2]\n",
    "v = v/np.linalg.norm(v)\n",
    "print(u/np.linalg.norm(u))\n",
    "print(v/np.linalg.norm(v))\n",
    "print(\"||v - u|| = \", np.linalg.norm(v - u))\n",
    "print(\"l = \", l)"
   ]
  },
  {
   "cell_type": "code",
   "execution_count": null,
   "metadata": {},
   "outputs": [],
   "source": [
    "l, w = np.linalg.eig(A.todense())\n",
    "print (l)\n",
    "print (w.transpose()[0])"
   ]
  },
  {
   "cell_type": "code",
   "execution_count": null,
   "metadata": {},
   "outputs": [],
   "source": [
    "eigen_cen = nx.eigenvector_centrality(G.subgraph(cc))\n",
    "eigen_cen"
   ]
  },
  {
   "cell_type": "markdown",
   "metadata": {},
   "source": [
    "Time's up.  Save the graph for future use."
   ]
  },
  {
   "cell_type": "code",
   "execution_count": null,
   "metadata": {},
   "outputs": [],
   "source": [
    "nx.write_yaml(G, \"florentine.yml\")"
   ]
  },
  {
   "cell_type": "markdown",
   "metadata": {},
   "source": [
    "The theoretical foundation for this approach is provided by the\n",
    "following Linear Algebra [theorem](https://en.wikipedia.org/wiki/Perron%E2%80%93Frobenius_theorem) from 1907/1912."
   ]
  },
  {
   "cell_type": "markdown",
   "metadata": {},
   "source": [
    "<div class=\"alert\">\n",
    "<b>Theorem.</b> (Perron-Frobenius for irreducible matrices.)\n",
    "Suppose that $A$ is a square, nonnegative, irreducible matrix. Then:\n",
    "\n",
    "* $A$ has a real eigenvalue $\\lambda > 0$ with $\\lambda \\geq |\\lambda'|$ for all\n",
    "eigenvalues $\\lambda'$ of $A$;\n",
    "* $\\lambda$ is a simple root of the characteristic polynomial of $A$;\n",
    "* there is a $\\lambda$-eigenvector $v$ with $v > 0$.\n",
    "</div>"
   ]
  },
  {
   "cell_type": "markdown",
   "metadata": {},
   "source": [
    "Here, a matrix $A$ is called **reducible** if, for some simultaneous\n",
    "permutation of its rows and columns, it has the block form\n",
    "$$\n",
    "A = \\left( \n",
    "\\begin{array}{cc}\n",
    "A_{11} & A_{12} \\\\\n",
    "0 & A_{21}\n",
    "\\end{array}\n",
    "\\right).\n",
    "$$\n",
    "And $A$ is **irreducible** if it is not reducible.\n",
    "\n",
    "The incidence matrix of a simple graph $G$ is irreducible if and only if $G$ is connected."
   ]
  },
  {
   "cell_type": "markdown",
   "metadata": {},
   "source": [
    "<div class=\"alert\">\n",
    "\n",
    "**Definition (Eigenvector centrality).**  In a simple, connected graph $G$,\n",
    "the **eigenvector centrality** $c_i^E$ of node $i$ is defined as\n",
    "$$\n",
    "c_i^E = u_i,\n",
    "$$\n",
    "where $u = (u_1, \\dots, u_n)$ is the (unique) normalized eigenvector\n",
    "of the adjacency matrix $A$ of $G$\n",
    "with eigenvalue $\\lambda$, and where $\\lambda > |\\lambda'|$\n",
    "for all eigenvalues $\\lambda'$ of $A$.\n",
    "\n",
    "The **normalised eigenvector centrality** of node $i$ is defined as\n",
    "$$\n",
    "C_i^E = \\frac{c_i^E}{C^E},\n",
    "$$\n",
    "where $C^E = \\sum_j c_j^E$.\n",
    "\n",
    "</div>"
   ]
  },
  {
   "cell_type": "code",
   "execution_count": null,
   "metadata": {},
   "outputs": [],
   "source": []
  }
 ],
 "metadata": {
  "kernelspec": {
   "display_name": "Python 3",
   "language": "python",
   "name": "python3"
  },
  "language_info": {
   "codemirror_mode": {
    "name": "ipython",
    "version": 3
   },
   "file_extension": ".py",
   "mimetype": "text/x-python",
   "name": "python",
   "nbconvert_exporter": "python",
   "pygments_lexer": "ipython3",
   "version": "3.7.1"
  }
 },
 "nbformat": 4,
 "nbformat_minor": 2
}
