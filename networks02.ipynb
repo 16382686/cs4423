{
 "cells": [
  {
   "cell_type": "markdown",
   "metadata": {},
   "source": [
    "### CS4423 - Networks\n",
    "Prof. Götz Pfeiffer<br />\n",
    "School of Mathematics, Statistics and Applied Mathematics<br />\n",
    "NUI Galway"
   ]
  },
  {
   "cell_type": "markdown",
   "metadata": {},
   "source": [
    "# Lecture 2: Graphs and `networkx`"
   ]
  },
  {
   "cell_type": "markdown",
   "metadata": {},
   "source": [
    "<div class=\"alert alert-success\">\n",
    "    A <b>graph</b> can serve as a mathematical model of a network.\n",
    "</div>"
   ]
  },
  {
   "cell_type": "markdown",
   "metadata": {},
   "source": [
    "* We will use the `networkx` package to work with examples of graphs and networks.\n",
    "\n",
    "* This notebook gives and introduction into graph theory, along with some basic, useful\n",
    "  `networkx` commands.\n",
    "\n",
    "* From now on, we load some `python` packages at the start of each\n",
    "  notebook, so we have them available later on."
   ]
  },
  {
   "cell_type": "code",
   "execution_count": null,
   "metadata": {},
   "outputs": [],
   "source": [
    "import networkx as nx"
   ]
  },
  {
   "cell_type": "markdown",
   "metadata": {},
   "source": [
    "##  The Internet, for Example"
   ]
  },
  {
   "cell_type": "markdown",
   "metadata": {},
   "source": [
    "**Example.**  The internet in December 1970.  Nodes are computers,\n",
    "connected by a link if they can directly communicate with each other.\n",
    "At the time, only 13 computers participated in that network.\n",
    "\n",
    "![the internet in december 1970](https://d1vq4hxutb7n2b.cloudfront.net/system/files/53b5c1/66342b8248f70002ea/h_1536/f7dec1970.jpg)\n"
   ]
  },
  {
   "cell_type": "markdown",
   "metadata": {},
   "source": [
    "As far as the network structure is concerned, the following list of **adjacencies** contains all the information."
   ]
  },
  {
   "cell_type": "code",
   "execution_count": null,
   "metadata": {},
   "outputs": [],
   "source": [
    "!cat data/arpa.adj"
   ]
  },
  {
   "cell_type": "markdown",
   "metadata": {},
   "source": [
    "The following **diagram**, built from the adjacenies in the list,\n",
    "contains the same information, without the distracting details of the\n",
    "US geography."
   ]
  },
  {
   "cell_type": "code",
   "execution_count": null,
   "metadata": {},
   "outputs": [],
   "source": [
    "H = nx.read_adjlist(\"data/arpa.adj\")\n",
    "poss = nx.spring_layout(H)\n",
    "opts = { \"with_labels\": True, \"node_color\": 'y' }\n",
    "nx.draw(H, poss, **opts)"
   ]
  },
  {
   "cell_type": "markdown",
   "metadata": {},
   "source": [
    "## Simple Graphs"
   ]
  },
  {
   "cell_type": "markdown",
   "metadata": {},
   "source": [
    "<div class=\"alert alert-danger\">\n",
    "    <b>Definition.</b> A (simple) <b>graph</b>\n",
    "is a pair $G = (X, E)$, consisting of a (finite) set $X$ of\n",
    "    objects, called <b>nodes</b> or <b>vertices</b> or <b>points</b>,\n",
    "and a subset $E \\subseteq \\binom{X}{2}$\n",
    "    of <b>links</b> or <b>edges</b>.\n",
    "</div>"
   ]
  },
  {
   "cell_type": "markdown",
   "metadata": {},
   "source": [
    "Usually, $n$ is used to denote the number of vertices of a graph,\n",
    "$n = |X|$,\n",
    "and $m$ for the number of edges, $m = |E|$.\n",
    "\n",
    "$n = |X|$ is called the **order** of the graph $G$, and $m = |E|$ is called the  **size** of $G$.\n",
    "\n",
    "Here, $\\binom{X}{2}$, pronounced as \"$X$ choose 2\",\n",
    "is the set of all $2$-element subsets of $X$.\n",
    "(The notation is motivated by the fact that if $X$ has $n$ elements then\n",
    "$\\binom{X}{2}$ has $\\binom{n}{2} = \\frac12 n(n-1)$ elements:\n",
    "$$\\left|\\binom{X}{2}\\right| = \\binom{|X|}{2}.$$\n",
    "Obviously, $m \\leq \\binom{n}{2}$."
   ]
  },
  {
   "cell_type": "markdown",
   "metadata": {},
   "source": [
    "**Example.**\n",
    "$X = \\{ A, B, C, D \\}$ and $E = \\{ AB, BC, BD, CD \\}$\n",
    "(where $AB$ is short for $\\{ A, B \\}$)."
   ]
  },
  {
   "cell_type": "markdown",
   "metadata": {},
   "source": [
    "##  Simple Graphs in `networkx`"
   ]
  },
  {
   "cell_type": "markdown",
   "metadata": {},
   "source": [
    "* In `networkx`, we can construct this graphh with the `Graph`\n",
    "constructor function, which takes the node and edge sets $X$ and $E$ in a variety of formats.  \n",
    "* Here, we use $2$-letter strings for \n",
    "the edges (which implicitly gives the nodes too): "
   ]
  },
  {
   "cell_type": "code",
   "execution_count": null,
   "metadata": {},
   "outputs": [],
   "source": [
    "G = nx.Graph([\"AB\", \"BC\", \"BD\", \"CD\"])"
   ]
  },
  {
   "cell_type": "markdown",
   "metadata": {},
   "source": [
    "* The `python` object `G` representing the graph $G$ has lots of useful attributes.  Firstly, it has `nodes` and `edges`."
   ]
  },
  {
   "cell_type": "code",
   "execution_count": null,
   "metadata": {},
   "outputs": [],
   "source": [
    "G.nodes"
   ]
  },
  {
   "cell_type": "code",
   "execution_count": null,
   "metadata": {},
   "outputs": [],
   "source": [
    "list(G.nodes)"
   ]
  },
  {
   "cell_type": "code",
   "execution_count": null,
   "metadata": {
    "slideshow": {
     "slide_type": "fragment"
    }
   },
   "outputs": [],
   "source": [
    "G.edges"
   ]
  },
  {
   "cell_type": "code",
   "execution_count": null,
   "metadata": {},
   "outputs": [],
   "source": [
    "list(G.edges)"
   ]
  },
  {
   "cell_type": "markdown",
   "metadata": {},
   "source": [
    "* A **loop** over a graph `G` will effectively loop over `G`'s nodes."
   ]
  },
  {
   "cell_type": "code",
   "execution_count": null,
   "metadata": {},
   "outputs": [],
   "source": [
    "for node in G:\n",
    "    print(node)"
   ]
  },
  {
   "cell_type": "markdown",
   "metadata": {},
   "source": [
    "* We can count the nodes, and the edges."
   ]
  },
  {
   "cell_type": "code",
   "execution_count": null,
   "metadata": {
    "slideshow": {
     "slide_type": "fragment"
    }
   },
   "outputs": [],
   "source": [
    "G.number_of_nodes()"
   ]
  },
  {
   "cell_type": "code",
   "execution_count": null,
   "metadata": {},
   "outputs": [],
   "source": [
    "G.order()"
   ]
  },
  {
   "cell_type": "code",
   "execution_count": null,
   "metadata": {},
   "outputs": [],
   "source": [
    "G.number_of_edges()"
   ]
  },
  {
   "cell_type": "code",
   "execution_count": null,
   "metadata": {},
   "outputs": [],
   "source": [
    "G.size()"
   ]
  },
  {
   "cell_type": "markdown",
   "metadata": {},
   "source": [
    "* And a drawing of the graph can be produced."
   ]
  },
  {
   "cell_type": "code",
   "execution_count": null,
   "metadata": {},
   "outputs": [],
   "source": [
    "nx.draw(G, **opts)"
   ]
  },
  {
   "cell_type": "markdown",
   "metadata": {},
   "source": [
    "* The example also illustrates a typical way how diagrams of graphs are drawn:\n",
    "nodes are represented by small circles, and edges by lines connecting the nodes."
   ]
  },
  {
   "cell_type": "markdown",
   "metadata": {},
   "source": [
    "* A graph `G` can be modified, by adding nodes one at a time ..."
   ]
  },
  {
   "cell_type": "code",
   "execution_count": null,
   "metadata": {},
   "outputs": [],
   "source": [
    "G.add_node(1)\n",
    "list(G.nodes)"
   ]
  },
  {
   "cell_type": "markdown",
   "metadata": {},
   "source": [
    "* ... or many nodes at once ..."
   ]
  },
  {
   "cell_type": "code",
   "execution_count": null,
   "metadata": {},
   "outputs": [],
   "source": [
    "G.add_nodes_from([2, 3, 5])\n",
    "list(G.nodes)"
   ]
  },
  {
   "cell_type": "markdown",
   "metadata": {},
   "source": [
    "* ... or even as nodes of another graph `H`"
   ]
  },
  {
   "cell_type": "code",
   "execution_count": null,
   "metadata": {},
   "outputs": [],
   "source": [
    "G.add_nodes_from(H)\n",
    "print(list(G.nodes))"
   ]
  },
  {
   "cell_type": "code",
   "execution_count": null,
   "metadata": {},
   "outputs": [],
   "source": [
    "G.order(), G.size()"
   ]
  },
  {
   "cell_type": "markdown",
   "metadata": {},
   "source": [
    "* Adding edges works in a similar fashion"
   ]
  },
  {
   "cell_type": "code",
   "execution_count": null,
   "metadata": {},
   "outputs": [],
   "source": [
    "G.add_edge(1,2)\n",
    "list(G.edges)"
   ]
  },
  {
   "cell_type": "code",
   "execution_count": null,
   "metadata": {},
   "outputs": [],
   "source": [
    "edge = (2,3)\n",
    "G.add_edge(*edge)\n",
    "list(G.edges)"
   ]
  },
  {
   "cell_type": "code",
   "execution_count": null,
   "metadata": {},
   "outputs": [],
   "source": [
    "G.add_edges_from([(1,5), (2,5), (3,5)])\n",
    "print(list(G.edges))"
   ]
  },
  {
   "cell_type": "code",
   "execution_count": null,
   "metadata": {
    "slideshow": {
     "slide_type": "fragment"
    }
   },
   "outputs": [],
   "source": [
    "G.add_edges_from(H.edges)\n",
    "print(list(G.edges))"
   ]
  },
  {
   "cell_type": "code",
   "execution_count": null,
   "metadata": {},
   "outputs": [],
   "source": [
    "nx.draw(G, **opts)"
   ]
  },
  {
   "cell_type": "code",
   "execution_count": null,
   "metadata": {},
   "outputs": [],
   "source": [
    "G.order(), G.size()"
   ]
  },
  {
   "cell_type": "markdown",
   "metadata": {},
   "source": [
    "* There are corresponding commands for removing nodes or edges from a graph `G`"
   ]
  },
  {
   "cell_type": "code",
   "execution_count": null,
   "metadata": {},
   "outputs": [],
   "source": [
    "G.remove_edge(3,5)\n",
    "G.order(), G.size()"
   ]
  },
  {
   "cell_type": "code",
   "execution_count": null,
   "metadata": {},
   "outputs": [],
   "source": [
    "G.remove_edges_from(H.edges())\n",
    "\n",
    "G.order(), G.size()"
   ]
  },
  {
   "cell_type": "markdown",
   "metadata": {},
   "source": [
    "* Removing a node will silently delete all edges it forms part of"
   ]
  },
  {
   "cell_type": "code",
   "execution_count": null,
   "metadata": {},
   "outputs": [],
   "source": [
    "G.remove_node(3)\n",
    "G.order(), G.size()"
   ]
  },
  {
   "cell_type": "code",
   "execution_count": null,
   "metadata": {},
   "outputs": [],
   "source": []
  },
  {
   "cell_type": "markdown",
   "metadata": {},
   "source": [
    "## Adjacency Matrix\n",
    "\n",
    "A useful, algebraic, way to represent a graph is given by its __adjacency matrix__.  This is square matrix $A$, with rows and columns corresponding to the vertices of the graph, and an entry $1$ or $0$ in row $i$, column $j$, if\n",
    "the corresponding vertices are joined by an edge or not.\n",
    "The edge $AB$ in the example above this gives an entry $1$\n",
    "in row 1 (corresponding to vertex $A$) and column 2 (corresponding to\n",
    "vertex $B$.  And another entry $1$ in row 2 column 1.  The full adjacency matrix\n",
    "of the above graph is as follows.\n",
    "\n",
    "$A = \\left[\n",
    "\\begin{array}{cccc}\n",
    "0&1&0&0\\\\\n",
    "1&0&1&1\\\\\n",
    "0&1&0&1\\\\\n",
    "0&1&1&0\n",
    "\\end{array}\n",
    "\\right]$\n",
    "\n",
    "Note that $A = (a_{ij})$, like every adjacency matrix of a simple\n",
    "graph, is _symmetric_ (about the diagonal): $a_{ij} = a_{ji}$ for all\n",
    "$i, j$.  Also, all diagonal entries are $0$."
   ]
  },
  {
   "cell_type": "markdown",
   "metadata": {},
   "source": [
    "##  Directed Graphs, Multigraphs\n",
    "\n",
    "In this simple setting, two nodes are either connected or not (that\n",
    "is, there are no multiple links) and if node $x$ is connected to node\n",
    "$y$, then it is also true that $y$ is connected to $x$: the edges set\n",
    "up a _symmetric_ relationship between nodes.  If we want to express\n",
    "more complex real world relationships, we can make use of the more\n",
    "complex structure of _directed_ graphs, where edges have directions\n",
    "(drawn as arrows), possibly pointing back to the node they came from\n",
    "(forming loops, or self-edges), or even with multiple edges between\n",
    "the same two nodes.  A graph that has multiple edges between nodes is\n",
    "usually called a _multigraph_.\n",
    "\n",
    "![graph2]\n",
    "\n",
    "The adjacency matrix $A$ of a directed graph has an entry $a_{ij} = 1$\n",
    "whenever there is an edge from vertex $i$ to vertex $j$ (in that\n",
    "order!)  in the graph, and entries $0$ in all other positions.  For\n",
    "example,\n",
    "\n",
    "$A = \\left[\n",
    "\\begin{array}{cccc}\n",
    "0&1&0&0\\\\\n",
    "0&0&1&1\\\\\n",
    "0&0&0&1\\\\\n",
    "0&0&0&0\n",
    "\\end{array}\n",
    "\\right]$\n",
    "\n",
    "A simple graph can be regarded as a directed graph by reading every\n",
    "undirected edge as two directed edges between the end points,\n",
    "one going forward and one coming back.\n",
    "\n",
    "The adjacency matrix is capable of storing additional information,\n",
    "like weights or multiplicities of edges or loops, if that is required.\n",
    "We will soon see, how algebraic operations like matrix multiplication\n",
    "can be used to obtain information about a network from its adjacency matrix."
   ]
  },
  {
   "cell_type": "markdown",
   "metadata": {},
   "source": [
    "## Degree\n",
    "\n",
    "The **degree** of a vertex $x$ in a simple graph is the number of\n",
    "vertices it is connected to in the graph (it's number of **friends**).\n",
    "The degree can serve as a (simple) measure of the importance of a node\n",
    "in a network.  The **average degree** of the nodes in a network depends\n",
    "(only) on the number $n$ of nodes, and the number $m$ of edges in the\n",
    "network.\n",
    "\n",
    "Writing $k_i$ for the degree of vertex $x_i$, this number\n",
    "easily be determined from the adjacency matrix $A$ as the number of\n",
    "entries $1$ in row $i$ (or in column $i$):\n",
    "\n",
    "$k_i = \\sum_j a_{ij} = \\sum_j a_{ji}$.\n",
    "\n",
    "As every edge contributes to the degree of $2$ nodes, the sum of all degrees\n",
    "equals twice the number of edges:\n",
    "\n",
    "$\\sum_i k_i = 2m$,\n",
    "\n",
    "whence the _average degree_ is\n",
    "\n",
    "$c = \\frac1n \\sum_i k_i = \\frac{2m}{n}$."
   ]
  },
  {
   "cell_type": "markdown",
   "metadata": {},
   "source": [
    "## Graphs are Relations\n",
    "\n",
    "Recall the following definitions.\n",
    "\n",
    "<div class=\"note\" markdown=\"1\">\n",
    "**Definition.**  A __relation__ from a set $X$ to a set $Y$ is (nothing but) a subset\n",
    "$R$ of the Cartesian product $X \\times Y = \\\\{(x, y) :  x \\in X,\\, y \\in Y \\\\}$.\n",
    "We say that $x \\in X$ is __$R$-related__ to $y \\in Y$ whenever $(x, y) \\in R$\n",
    "and then write $x R y$.\n",
    "</div>\n",
    "\n",
    "The adjacency matrix of a relation $R \\subseteq X \\times Y$\n",
    "is the matrix with one row for each element $x \\in X$ and one column for each\n",
    "element $y \\in Y$, and it has an entry $1$ in row $x$ and column $y$\n",
    "if $x R y$, and entries $0$ otherwise.\n",
    "\n",
    "In many cases, $Y = X$.\n",
    "If $Y = X$, we say that $R$ is a relation __on__ $X$.  Such a relation\n",
    "can have one or more of the following properties.\n",
    "\n",
    "<div class=\"note\" markdown=\"1\">\n",
    "* (R) $R$ is __reflexive__ if $xRx$ for all $x \\in X$;\n",
    "* (S) $R$ is __symmetric__ if $xRy$ implies $yRx$ for all $x, y \\in X$;\n",
    "* (T) $R$ is __transitive__ if $xRy$ and $yRz$ imply that $xRz$ for all $x, y, z \\in X$;\n",
    "\n",
    "* (I) $R$ is __irreflexive__ if not $xRx$ for all $x \\in X$;\n",
    "* (A) $R$ is __antisymmetric__ if $xRy$ and $yRx$ imply that\n",
    "$x = y$ for all $x, y \\in X$.\n",
    "</div>\n",
    "\n",
    "A relation that is (RST), i.e., reflexive, symmetric and transitive, is\n",
    "called an __equivalence relation__, and it partitions the set $X$ into\n",
    "(mutually disjoint) parts, called __equivalence classes__.  A relation\n",
    "that is (RAT) is called a __partial order__ (such as the *divides*\n",
    "partial order on the natural numbers, or the *contains* relation\n",
    "between the subsets of a set).\n",
    "\n",
    "In view of these notions, we can now describe simple graphs and some\n",
    "of their properties\n",
    "as follows: A *simple* graph with node set $X$ is a *symmetric*,\n",
    "*irreflexive* relation on $X$.  A *directed* graph with node set $X$\n",
    "is *irreflexive* if it has *no loops*.  And it is *antisymmetric* if\n",
    "every edge has a *unique direction*.\n",
    "\n",
    "The article [Counting Transitive Relations] (in the *Journal of\n",
    "Integer Sequences*) contains a systematic account on the various types\n",
    "of relations that can be distinguished by these 5 properties, and a\n",
    "discussion of how to count them (up to equivalence) in case the\n",
    "underlying set $X$ is finite.\n",
    "\n",
    "## Composition\n",
    "\n",
    "Relations can be composed, like functions.  If $R$ is a relation\n",
    "from a set $X$ to a set $Y$, and if $S$ is a relation from $Y$ to a set $Z$,\n",
    "then the __composite relation__ $R \\circ S$ is the relation\n",
    "from $X$ to $Z$, defined by $x (R \\circ S) z$ if there is a\n",
    "an element $y \\in Y$ such that $x R y$ and $y S z$.\n",
    "\n",
    "The adjacency matrix of the composite relation $R \\circ S$\n",
    "is essentially the (matrix) product of the adjacency matrices\n",
    "of the individual relations $R$ and $S$.\n",
    "If $A = (a_{ij})$ is the adjacency matrix of $R$, and $B = (b_{jk})$ the adjacency matrix of $S$,\n",
    "then the $i,k$-entry of the product $AB$ is\n",
    "\n",
    "$$(AB)_{ik} = \\sum_{j} a_{ij} b_{jk}$$,\n",
    "\n",
    "which is exactly the _number_ of elements $y \\in Y$ such that $x_i R\n",
    "y$ and $y S z_k$.  All it needs for $x_i$ to be $(R \\circ S)$-related\n",
    "to $z_k$ is this number to be at least $1$.  Hence, replacing all\n",
    "nonzero entries in the product matrix $AB$ with $1$ yields the\n",
    "adjacency matrix of the composite $R \\circ S$.\n",
    "\n",
    "Let's write $A \\circ B$ for this matrix.\n",
    "\n",
    "[graph1]: /images/graph1.png\n",
    "[components]: /images/components.png\n",
    "[bipartite1]: /images/bipartite1.png\n",
    "[bipartite2]: /images/bipartite2.png\n",
    "[graph2]: /images/graph2.png\n",
    "[counting transitive relations]: https://cs.uwaterloo.ca/journals/JIS/VOL7/Pfeiffer/pfeiffer6.html"
   ]
  },
  {
   "cell_type": "markdown",
   "metadata": {},
   "source": [
    "##  Code Corner"
   ]
  },
  {
   "cell_type": "markdown",
   "metadata": {},
   "source": [
    "### `python`"
   ]
  },
  {
   "cell_type": "markdown",
   "metadata": {},
   "source": [
    "* `**opts`: `python` function calls take **positional** arguments and **keyword** arguments.  \n",
    "  The keyword arguments can be collected in a dictionary `opts` (with the keywords as keys).  \n",
    "  This dictionary can then be passed into the function call in its \"unwrapped\" form `**opts`."
   ]
  },
  {
   "cell_type": "markdown",
   "metadata": {},
   "source": [
    "* `list` [doc] turns its argument into a `python` list (if possible)."
   ]
  },
  {
   "cell_type": "code",
   "execution_count": null,
   "metadata": {},
   "outputs": [],
   "source": [
    "list(\"networks\")"
   ]
  },
  {
   "cell_type": "markdown",
   "metadata": {},
   "source": [
    "### `networkx`"
   ]
  },
  {
   "cell_type": "markdown",
   "metadata": {},
   "source": [
    "* the `read_adjlist` command [doc] constructs a graph from a text file in `adj` format."
   ]
  },
  {
   "cell_type": "markdown",
   "metadata": {},
   "source": [
    "* `G.nodes` [doc] returns the nodes of a graph `G` (as an iterator)."
   ]
  },
  {
   "cell_type": "markdown",
   "metadata": {},
   "source": [
    "* `G.edges` [doc] returns the edges of a graph `G` (as an iterator)."
   ]
  },
  {
   "cell_type": "code",
   "execution_count": null,
   "metadata": {},
   "outputs": [],
   "source": []
  }
 ],
 "metadata": {
  "kernelspec": {
   "display_name": "Python 3",
   "language": "python",
   "name": "python3"
  },
  "language_info": {
   "codemirror_mode": {
    "name": "ipython",
    "version": 3
   },
   "file_extension": ".py",
   "mimetype": "text/x-python",
   "name": "python",
   "nbconvert_exporter": "python",
   "pygments_lexer": "ipython3",
   "version": "3.7.6"
  }
 },
 "nbformat": 4,
 "nbformat_minor": 1
}
